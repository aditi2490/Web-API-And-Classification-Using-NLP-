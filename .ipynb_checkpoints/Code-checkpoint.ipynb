{
 "cells": [
  {
   "cell_type": "code",
   "execution_count": 1,
   "id": "269e6c4c",
   "metadata": {},
   "outputs": [],
   "source": [
    "#importing libraries:-\n",
    "\n",
    "import numpy as np\n",
    "import pandas as pd\n",
    "import requests\n",
    "import time\n",
    "import datetime as dt\n",
    "import json\n",
    "from nltk.tokenize import RegexpTokenizer\n",
    "from nltk.stem import WordNetLemmatizer\n",
    "from sklearn.feature_extraction.text import CountVectorizer, TfidfVectorizer\n",
    "import matplotlib.pyplot as plt\n",
    "\n",
    "%matplotlib inline\n",
    "\n"
   ]
  },
  {
   "cell_type": "code",
   "execution_count": 2,
   "id": "9b9a7358",
   "metadata": {},
   "outputs": [],
   "source": [
    "#function to collect data \n",
    "# refrence:-https://github.com/pushshift/api\n",
    "\n",
    "def pushshift(subreddit, post_type='submission', loops=1, size=500, skip=30):\n",
    "# subreddit: str, name of subreddit to search for\n",
    "# post_type: {'submission', 'comment'}, type of post to search for\n",
    "# loops: int, number of times to request posts\n",
    "# size: int, number of posts per request (max 500 per pushshift api guide)\n",
    "# skip: int, number of days back to search in each loop \n",
    "        # increase if too many duplicate posts are returned, decrease if you want to skip fewer posts\n",
    "\n",
    "    # data fields to return for submissions\n",
    "    subfields = ['author', 'author_fullname', 'created_utc', 'id', 'num_comments', 'permalink', \n",
    "                 'score', 'selftext', 'subreddit', 'title', 'url', 'is_self']    \n",
    "  \n",
    "    # instantiate list for posts data\n",
    "    list_posts = [] \n",
    "    url_stem = \"https://api.pushshift.io/reddit/search/{}/?subreddit={}&size={}\".format(post_type, subreddit, size)\n",
    "    # skip a minimum of 1 day\n",
    "    after = 1    \n",
    "\n",
    "    # check before requesting data\n",
    "    if post_type not in ['submission', 'comment']:\n",
    "        print(\"post_type must be 'submission' or 'comment'\")\n",
    "        return None\n",
    "    \n",
    "    for i in range(loops):\n",
    "        # add parameters to url to skip posts (after could be used to match up to post at end of previous loop if skip = 0)\n",
    "        url = '{}&after={}d'.format(url_stem, skip * i + after) \n",
    "        # monitor status as loops run\n",
    "        print(i, url)\n",
    "        # get data\n",
    "        res = requests.get(url)\n",
    "        # add dictionaries for posts to list_posts\n",
    "        list_posts.extend(res.json()['data']) \n",
    "        # be polite\n",
    "        time.sleep(1) \n",
    "\n",
    "    # turn list_posts (a list of dictionaries where each dictionary contains data on one post) into a dataframe\n",
    "    df_posts = pd.DataFrame.from_dict(list_posts) \n",
    "\n",
    "    # filter fields for submissions or comments\n",
    "    if post_type == 'submission':\n",
    "        df_posts = df_posts[subfields]\n",
    "    elif post_type == 'comment':\n",
    "        df_posts = df_posts[comfields]  \n",
    "#     else:\n",
    "#         print(\"post_type must be 'submission' or 'comment'\")\n",
    "#         return None\n",
    "\n",
    "    # drop any duplicates\n",
    "    df_posts.drop_duplicates(inplace=True)\n",
    "    # add a field identifying submissions or comments\n",
    "    df_posts['post_type'] = post_type\n",
    "    \n",
    "    return df_posts"
   ]
  },
  {
   "cell_type": "code",
   "execution_count": 3,
   "id": "c9555486",
   "metadata": {},
   "outputs": [
    {
     "name": "stdout",
     "output_type": "stream",
     "text": [
      "0 https://api.pushshift.io/reddit/search/submission/?subreddit=basketball&size=500&after=1d\n",
      "1 https://api.pushshift.io/reddit/search/submission/?subreddit=basketball&size=500&after=2d\n",
      "2 https://api.pushshift.io/reddit/search/submission/?subreddit=basketball&size=500&after=3d\n",
      "3 https://api.pushshift.io/reddit/search/submission/?subreddit=basketball&size=500&after=4d\n",
      "4 https://api.pushshift.io/reddit/search/submission/?subreddit=basketball&size=500&after=5d\n",
      "5 https://api.pushshift.io/reddit/search/submission/?subreddit=basketball&size=500&after=6d\n",
      "6 https://api.pushshift.io/reddit/search/submission/?subreddit=basketball&size=500&after=7d\n",
      "7 https://api.pushshift.io/reddit/search/submission/?subreddit=basketball&size=500&after=8d\n",
      "8 https://api.pushshift.io/reddit/search/submission/?subreddit=basketball&size=500&after=9d\n",
      "9 https://api.pushshift.io/reddit/search/submission/?subreddit=basketball&size=500&after=10d\n",
      "10 https://api.pushshift.io/reddit/search/submission/?subreddit=basketball&size=500&after=11d\n",
      "11 https://api.pushshift.io/reddit/search/submission/?subreddit=basketball&size=500&after=12d\n",
      "12 https://api.pushshift.io/reddit/search/submission/?subreddit=basketball&size=500&after=13d\n",
      "13 https://api.pushshift.io/reddit/search/submission/?subreddit=basketball&size=500&after=14d\n",
      "14 https://api.pushshift.io/reddit/search/submission/?subreddit=basketball&size=500&after=15d\n",
      "15 https://api.pushshift.io/reddit/search/submission/?subreddit=basketball&size=500&after=16d\n",
      "16 https://api.pushshift.io/reddit/search/submission/?subreddit=basketball&size=500&after=17d\n",
      "17 https://api.pushshift.io/reddit/search/submission/?subreddit=basketball&size=500&after=18d\n",
      "18 https://api.pushshift.io/reddit/search/submission/?subreddit=basketball&size=500&after=19d\n",
      "19 https://api.pushshift.io/reddit/search/submission/?subreddit=basketball&size=500&after=20d\n",
      "shape (365, 13)\n"
     ]
    }
   ],
   "source": [
    "basketball_subs = pushshift('basketball', post_type='submission', loops=20, skip=1)\n",
    "print('shape', basketball_subs.shape)\n",
    "basketball_subs.to_csv('basketball_subs-pushshift.csv')"
   ]
  },
  {
   "cell_type": "code",
   "execution_count": 4,
   "id": "4d5bb4d6",
   "metadata": {},
   "outputs": [
    {
     "name": "stdout",
     "output_type": "stream",
     "text": [
      "0 https://api.pushshift.io/reddit/search/submission/?subreddit=football&size=500&after=1d\n",
      "1 https://api.pushshift.io/reddit/search/submission/?subreddit=football&size=500&after=2d\n",
      "2 https://api.pushshift.io/reddit/search/submission/?subreddit=football&size=500&after=3d\n",
      "3 https://api.pushshift.io/reddit/search/submission/?subreddit=football&size=500&after=4d\n",
      "4 https://api.pushshift.io/reddit/search/submission/?subreddit=football&size=500&after=5d\n",
      "5 https://api.pushshift.io/reddit/search/submission/?subreddit=football&size=500&after=6d\n",
      "6 https://api.pushshift.io/reddit/search/submission/?subreddit=football&size=500&after=7d\n",
      "7 https://api.pushshift.io/reddit/search/submission/?subreddit=football&size=500&after=8d\n",
      "8 https://api.pushshift.io/reddit/search/submission/?subreddit=football&size=500&after=9d\n",
      "9 https://api.pushshift.io/reddit/search/submission/?subreddit=football&size=500&after=10d\n",
      "10 https://api.pushshift.io/reddit/search/submission/?subreddit=football&size=500&after=11d\n",
      "11 https://api.pushshift.io/reddit/search/submission/?subreddit=football&size=500&after=12d\n",
      "12 https://api.pushshift.io/reddit/search/submission/?subreddit=football&size=500&after=13d\n",
      "13 https://api.pushshift.io/reddit/search/submission/?subreddit=football&size=500&after=14d\n",
      "14 https://api.pushshift.io/reddit/search/submission/?subreddit=football&size=500&after=15d\n",
      "15 https://api.pushshift.io/reddit/search/submission/?subreddit=football&size=500&after=16d\n",
      "16 https://api.pushshift.io/reddit/search/submission/?subreddit=football&size=500&after=17d\n",
      "17 https://api.pushshift.io/reddit/search/submission/?subreddit=football&size=500&after=18d\n",
      "18 https://api.pushshift.io/reddit/search/submission/?subreddit=football&size=500&after=19d\n",
      "19 https://api.pushshift.io/reddit/search/submission/?subreddit=football&size=500&after=20d\n",
      "shape (896, 13)\n"
     ]
    }
   ],
   "source": [
    "football_subs = pushshift('football', post_type='submission', loops=20, skip=1)\n",
    "print('shape', football_subs.shape)\n",
    "football_subs.to_csv('football_subs-pushshift.csv')"
   ]
  },
  {
   "cell_type": "code",
   "execution_count": 5,
   "id": "eb01bc9b",
   "metadata": {},
   "outputs": [
    {
     "data": {
      "text/html": [
       "<div>\n",
       "<style scoped>\n",
       "    .dataframe tbody tr th:only-of-type {\n",
       "        vertical-align: middle;\n",
       "    }\n",
       "\n",
       "    .dataframe tbody tr th {\n",
       "        vertical-align: top;\n",
       "    }\n",
       "\n",
       "    .dataframe thead th {\n",
       "        text-align: right;\n",
       "    }\n",
       "</style>\n",
       "<table border=\"1\" class=\"dataframe\">\n",
       "  <thead>\n",
       "    <tr style=\"text-align: right;\">\n",
       "      <th></th>\n",
       "      <th>author</th>\n",
       "      <th>author_fullname</th>\n",
       "      <th>created_utc</th>\n",
       "      <th>id</th>\n",
       "      <th>num_comments</th>\n",
       "      <th>permalink</th>\n",
       "      <th>score</th>\n",
       "      <th>selftext</th>\n",
       "      <th>subreddit</th>\n",
       "      <th>title</th>\n",
       "      <th>url</th>\n",
       "      <th>is_self</th>\n",
       "      <th>post_type</th>\n",
       "    </tr>\n",
       "  </thead>\n",
       "  <tbody>\n",
       "    <tr>\n",
       "      <th>0</th>\n",
       "      <td>inter-faced</td>\n",
       "      <td>t2_141w87</td>\n",
       "      <td>1665345630</td>\n",
       "      <td>xzuroc</td>\n",
       "      <td>0</td>\n",
       "      <td>/r/Basketball/comments/xzuroc/basketball_conne...</td>\n",
       "      <td>1</td>\n",
       "      <td></td>\n",
       "      <td>Basketball</td>\n",
       "      <td>Basketball connects people - a nice fundraisin...</td>\n",
       "      <td>https://www.youtube.com/watch?v=dc9LoOyKPdk</td>\n",
       "      <td>False</td>\n",
       "      <td>submission</td>\n",
       "    </tr>\n",
       "    <tr>\n",
       "      <th>1</th>\n",
       "      <td>inter-faced</td>\n",
       "      <td>t2_141w87</td>\n",
       "      <td>1665345669</td>\n",
       "      <td>xzus9d</td>\n",
       "      <td>0</td>\n",
       "      <td>/r/Basketball/comments/xzus9d/basketball_conne...</td>\n",
       "      <td>1</td>\n",
       "      <td></td>\n",
       "      <td>Basketball</td>\n",
       "      <td>Basketball connects people - a nice fundraisin...</td>\n",
       "      <td>https://www.youtube.com/watch?v=dc9LoOyKPdk</td>\n",
       "      <td>False</td>\n",
       "      <td>submission</td>\n",
       "    </tr>\n",
       "    <tr>\n",
       "      <th>2</th>\n",
       "      <td>Mase_here</td>\n",
       "      <td>t2_t7z72m2r</td>\n",
       "      <td>1665353169</td>\n",
       "      <td>xzxqd4</td>\n",
       "      <td>1</td>\n",
       "      <td>/r/Basketball/comments/xzxqd4/sui/</td>\n",
       "      <td>1</td>\n",
       "      <td>[removed]</td>\n",
       "      <td>Basketball</td>\n",
       "      <td>Sui</td>\n",
       "      <td>https://www.reddit.com/r/Basketball/comments/x...</td>\n",
       "      <td>True</td>\n",
       "      <td>submission</td>\n",
       "    </tr>\n",
       "    <tr>\n",
       "      <th>3</th>\n",
       "      <td>Alive-Ad-4164</td>\n",
       "      <td>t2_ejxnnopl</td>\n",
       "      <td>1665355885</td>\n",
       "      <td>xzyqe0</td>\n",
       "      <td>0</td>\n",
       "      <td>/r/Basketball/comments/xzyqe0/mike_will_madeit...</td>\n",
       "      <td>1</td>\n",
       "      <td></td>\n",
       "      <td>Basketball</td>\n",
       "      <td>Mike WiLL Made-It - 23 ft. Miley Cyrus, Wiz Kh...</td>\n",
       "      <td>https://m.youtube.com/watch?v=bbEoRnaOIbs</td>\n",
       "      <td>False</td>\n",
       "      <td>submission</td>\n",
       "    </tr>\n",
       "    <tr>\n",
       "      <th>4</th>\n",
       "      <td>BrowseGrouse</td>\n",
       "      <td>t2_j2tflb8l</td>\n",
       "      <td>1665361288</td>\n",
       "      <td>y00m1p</td>\n",
       "      <td>0</td>\n",
       "      <td>/r/Basketball/comments/y00m1p/maxey_like_hal_g...</td>\n",
       "      <td>1</td>\n",
       "      <td></td>\n",
       "      <td>Basketball</td>\n",
       "      <td>Maxey: like Hal Greer? Great jumper, smooth, a...</td>\n",
       "      <td>https://youtu.be/VETdUbB4ZMQ</td>\n",
       "      <td>False</td>\n",
       "      <td>submission</td>\n",
       "    </tr>\n",
       "    <tr>\n",
       "      <th>...</th>\n",
       "      <td>...</td>\n",
       "      <td>...</td>\n",
       "      <td>...</td>\n",
       "      <td>...</td>\n",
       "      <td>...</td>\n",
       "      <td>...</td>\n",
       "      <td>...</td>\n",
       "      <td>...</td>\n",
       "      <td>...</td>\n",
       "      <td>...</td>\n",
       "      <td>...</td>\n",
       "      <td>...</td>\n",
       "      <td>...</td>\n",
       "    </tr>\n",
       "    <tr>\n",
       "      <th>3288</th>\n",
       "      <td>joyisfallinggj</td>\n",
       "      <td>t2_fspoubvi</td>\n",
       "      <td>1663763248</td>\n",
       "      <td>xk3j0w</td>\n",
       "      <td>0</td>\n",
       "      <td>/r/Basketball/comments/xk3j0w/an_in_depth_stor...</td>\n",
       "      <td>1</td>\n",
       "      <td></td>\n",
       "      <td>Basketball</td>\n",
       "      <td>\"An in depth story of how NBA player Delonte W...</td>\n",
       "      <td>https://twitter.com/DailyLoud/status/157184147...</td>\n",
       "      <td>False</td>\n",
       "      <td>submission</td>\n",
       "    </tr>\n",
       "    <tr>\n",
       "      <th>3289</th>\n",
       "      <td>remal199878</td>\n",
       "      <td>t2_siupujsu</td>\n",
       "      <td>1663765159</td>\n",
       "      <td>xk48qa</td>\n",
       "      <td>1</td>\n",
       "      <td>/r/Basketball/comments/xk48qa/fiba_womens_worl...</td>\n",
       "      <td>1</td>\n",
       "      <td>[removed]</td>\n",
       "      <td>Basketball</td>\n",
       "      <td>FIBA Womens World Cup Basketball Live Stream</td>\n",
       "      <td>https://www.reddit.com/r/Basketball/comments/x...</td>\n",
       "      <td>True</td>\n",
       "      <td>submission</td>\n",
       "    </tr>\n",
       "    <tr>\n",
       "      <th>3290</th>\n",
       "      <td>DonCab2k</td>\n",
       "      <td>t2_jjgi06fr</td>\n",
       "      <td>1663769382</td>\n",
       "      <td>xk5zbg</td>\n",
       "      <td>0</td>\n",
       "      <td>/r/Basketball/comments/xk5zbg/check_out_this_n...</td>\n",
       "      <td>1</td>\n",
       "      <td></td>\n",
       "      <td>Basketball</td>\n",
       "      <td>Check out this NBA 2022 Preseason game between...</td>\n",
       "      <td>https://youtu.be/TvdwTgnaocE</td>\n",
       "      <td>False</td>\n",
       "      <td>submission</td>\n",
       "    </tr>\n",
       "    <tr>\n",
       "      <th>3291</th>\n",
       "      <td>Mrknownwide</td>\n",
       "      <td>t2_sowstr8e</td>\n",
       "      <td>1663770086</td>\n",
       "      <td>xk6ahj</td>\n",
       "      <td>1</td>\n",
       "      <td>/r/Basketball/comments/xk6ahj/honest_hot_take/</td>\n",
       "      <td>1</td>\n",
       "      <td>[removed]\\n\\n[View Poll](https://www.reddit.co...</td>\n",
       "      <td>Basketball</td>\n",
       "      <td>Honest hot take</td>\n",
       "      <td>https://www.reddit.com/r/Basketball/comments/x...</td>\n",
       "      <td>True</td>\n",
       "      <td>submission</td>\n",
       "    </tr>\n",
       "    <tr>\n",
       "      <th>3292</th>\n",
       "      <td>PopGates</td>\n",
       "      <td>t2_pi28z</td>\n",
       "      <td>1663775981</td>\n",
       "      <td>xk8ukn</td>\n",
       "      <td>0</td>\n",
       "      <td>/r/Basketball/comments/xk8ukn/filipino_plnu_ba...</td>\n",
       "      <td>1</td>\n",
       "      <td></td>\n",
       "      <td>Basketball</td>\n",
       "      <td>Filipino PLNU basketball coach living her hoop...</td>\n",
       "      <td>https://sdnews.com/filipino-plnu-basketball-co...</td>\n",
       "      <td>False</td>\n",
       "      <td>submission</td>\n",
       "    </tr>\n",
       "  </tbody>\n",
       "</table>\n",
       "<p>365 rows × 13 columns</p>\n",
       "</div>"
      ],
      "text/plain": [
       "              author author_fullname  created_utc      id  num_comments  \\\n",
       "0        inter-faced       t2_141w87   1665345630  xzuroc             0   \n",
       "1        inter-faced       t2_141w87   1665345669  xzus9d             0   \n",
       "2          Mase_here     t2_t7z72m2r   1665353169  xzxqd4             1   \n",
       "3      Alive-Ad-4164     t2_ejxnnopl   1665355885  xzyqe0             0   \n",
       "4       BrowseGrouse     t2_j2tflb8l   1665361288  y00m1p             0   \n",
       "...              ...             ...          ...     ...           ...   \n",
       "3288  joyisfallinggj     t2_fspoubvi   1663763248  xk3j0w             0   \n",
       "3289     remal199878     t2_siupujsu   1663765159  xk48qa             1   \n",
       "3290        DonCab2k     t2_jjgi06fr   1663769382  xk5zbg             0   \n",
       "3291     Mrknownwide     t2_sowstr8e   1663770086  xk6ahj             1   \n",
       "3292        PopGates        t2_pi28z   1663775981  xk8ukn             0   \n",
       "\n",
       "                                              permalink  score  \\\n",
       "0     /r/Basketball/comments/xzuroc/basketball_conne...      1   \n",
       "1     /r/Basketball/comments/xzus9d/basketball_conne...      1   \n",
       "2                    /r/Basketball/comments/xzxqd4/sui/      1   \n",
       "3     /r/Basketball/comments/xzyqe0/mike_will_madeit...      1   \n",
       "4     /r/Basketball/comments/y00m1p/maxey_like_hal_g...      1   \n",
       "...                                                 ...    ...   \n",
       "3288  /r/Basketball/comments/xk3j0w/an_in_depth_stor...      1   \n",
       "3289  /r/Basketball/comments/xk48qa/fiba_womens_worl...      1   \n",
       "3290  /r/Basketball/comments/xk5zbg/check_out_this_n...      1   \n",
       "3291     /r/Basketball/comments/xk6ahj/honest_hot_take/      1   \n",
       "3292  /r/Basketball/comments/xk8ukn/filipino_plnu_ba...      1   \n",
       "\n",
       "                                               selftext   subreddit  \\\n",
       "0                                                        Basketball   \n",
       "1                                                        Basketball   \n",
       "2                                             [removed]  Basketball   \n",
       "3                                                        Basketball   \n",
       "4                                                        Basketball   \n",
       "...                                                 ...         ...   \n",
       "3288                                                     Basketball   \n",
       "3289                                          [removed]  Basketball   \n",
       "3290                                                     Basketball   \n",
       "3291  [removed]\\n\\n[View Poll](https://www.reddit.co...  Basketball   \n",
       "3292                                                     Basketball   \n",
       "\n",
       "                                                  title  \\\n",
       "0     Basketball connects people - a nice fundraisin...   \n",
       "1     Basketball connects people - a nice fundraisin...   \n",
       "2                                                   Sui   \n",
       "3     Mike WiLL Made-It - 23 ft. Miley Cyrus, Wiz Kh...   \n",
       "4     Maxey: like Hal Greer? Great jumper, smooth, a...   \n",
       "...                                                 ...   \n",
       "3288  \"An in depth story of how NBA player Delonte W...   \n",
       "3289       FIBA Womens World Cup Basketball Live Stream   \n",
       "3290  Check out this NBA 2022 Preseason game between...   \n",
       "3291                                    Honest hot take   \n",
       "3292  Filipino PLNU basketball coach living her hoop...   \n",
       "\n",
       "                                                    url  is_self   post_type  \n",
       "0           https://www.youtube.com/watch?v=dc9LoOyKPdk    False  submission  \n",
       "1           https://www.youtube.com/watch?v=dc9LoOyKPdk    False  submission  \n",
       "2     https://www.reddit.com/r/Basketball/comments/x...     True  submission  \n",
       "3             https://m.youtube.com/watch?v=bbEoRnaOIbs    False  submission  \n",
       "4                          https://youtu.be/VETdUbB4ZMQ    False  submission  \n",
       "...                                                 ...      ...         ...  \n",
       "3288  https://twitter.com/DailyLoud/status/157184147...    False  submission  \n",
       "3289  https://www.reddit.com/r/Basketball/comments/x...     True  submission  \n",
       "3290                       https://youtu.be/TvdwTgnaocE    False  submission  \n",
       "3291  https://www.reddit.com/r/Basketball/comments/x...     True  submission  \n",
       "3292  https://sdnews.com/filipino-plnu-basketball-co...    False  submission  \n",
       "\n",
       "[365 rows x 13 columns]"
      ]
     },
     "execution_count": 5,
     "metadata": {},
     "output_type": "execute_result"
    }
   ],
   "source": [
    "basketball_subs"
   ]
  },
  {
   "cell_type": "code",
   "execution_count": 6,
   "id": "b9c9c9f7",
   "metadata": {
    "scrolled": true
   },
   "outputs": [
    {
     "data": {
      "text/html": [
       "<div>\n",
       "<style scoped>\n",
       "    .dataframe tbody tr th:only-of-type {\n",
       "        vertical-align: middle;\n",
       "    }\n",
       "\n",
       "    .dataframe tbody tr th {\n",
       "        vertical-align: top;\n",
       "    }\n",
       "\n",
       "    .dataframe thead th {\n",
       "        text-align: right;\n",
       "    }\n",
       "</style>\n",
       "<table border=\"1\" class=\"dataframe\">\n",
       "  <thead>\n",
       "    <tr style=\"text-align: right;\">\n",
       "      <th></th>\n",
       "      <th>author</th>\n",
       "      <th>author_fullname</th>\n",
       "      <th>created_utc</th>\n",
       "      <th>id</th>\n",
       "      <th>num_comments</th>\n",
       "      <th>permalink</th>\n",
       "      <th>score</th>\n",
       "      <th>selftext</th>\n",
       "      <th>subreddit</th>\n",
       "      <th>title</th>\n",
       "      <th>url</th>\n",
       "      <th>is_self</th>\n",
       "      <th>post_type</th>\n",
       "    </tr>\n",
       "  </thead>\n",
       "  <tbody>\n",
       "    <tr>\n",
       "      <th>0</th>\n",
       "      <td>BrucieBe</td>\n",
       "      <td>t2_c74yaou6</td>\n",
       "      <td>1665345358</td>\n",
       "      <td>xzunrc</td>\n",
       "      <td>0</td>\n",
       "      <td>/r/football/comments/xzunrc/i_love_football_bu...</td>\n",
       "      <td>1</td>\n",
       "      <td>[removed]</td>\n",
       "      <td>football</td>\n",
       "      <td>I love football, but there’s nothing worse to ...</td>\n",
       "      <td>https://www.reddit.com/r/football/comments/xzu...</td>\n",
       "      <td>True</td>\n",
       "      <td>submission</td>\n",
       "    </tr>\n",
       "    <tr>\n",
       "      <th>1</th>\n",
       "      <td>MatchCaster</td>\n",
       "      <td>t2_7h7t33at</td>\n",
       "      <td>1665346537</td>\n",
       "      <td>xzv4s6</td>\n",
       "      <td>1</td>\n",
       "      <td>/r/football/comments/xzv4s6/match_thread_liga_...</td>\n",
       "      <td>1</td>\n",
       "      <td>#[Liga Profesional Argentina - 2022/2023 - 2nd...</td>\n",
       "      <td>football</td>\n",
       "      <td>[Match thread - Liga Profesional Argentina] Bo...</td>\n",
       "      <td>https://www.reddit.com/r/football/comments/xzv...</td>\n",
       "      <td>True</td>\n",
       "      <td>submission</td>\n",
       "    </tr>\n",
       "    <tr>\n",
       "      <th>2</th>\n",
       "      <td>howdoesitw0rk</td>\n",
       "      <td>t2_cwxevg2z</td>\n",
       "      <td>1665349373</td>\n",
       "      <td>xzw94m</td>\n",
       "      <td>0</td>\n",
       "      <td>/r/football/comments/xzw94m/hello_fam_i_want_t...</td>\n",
       "      <td>1</td>\n",
       "      <td>[removed]</td>\n",
       "      <td>football</td>\n",
       "      <td>Hello fam, I want to know about how to convert...</td>\n",
       "      <td>https://www.reddit.com/r/football/comments/xzw...</td>\n",
       "      <td>True</td>\n",
       "      <td>submission</td>\n",
       "    </tr>\n",
       "    <tr>\n",
       "      <th>3</th>\n",
       "      <td>Open_Spend3105</td>\n",
       "      <td>t2_iiz0rlxm</td>\n",
       "      <td>1665349597</td>\n",
       "      <td>xzwc7b</td>\n",
       "      <td>1</td>\n",
       "      <td>/r/football/comments/xzwc7b/idk_neymarrrrrrrrr...</td>\n",
       "      <td>1</td>\n",
       "      <td></td>\n",
       "      <td>football</td>\n",
       "      <td>idk neymarrrrrrrrrrrrrrrrrrrrrr</td>\n",
       "      <td>https://i.redd.it/w6oaj8luhus91.jpg</td>\n",
       "      <td>False</td>\n",
       "      <td>submission</td>\n",
       "    </tr>\n",
       "    <tr>\n",
       "      <th>4</th>\n",
       "      <td>koraaa24</td>\n",
       "      <td>t2_syt1bbhi</td>\n",
       "      <td>1665353274</td>\n",
       "      <td>xzxrr4</td>\n",
       "      <td>0</td>\n",
       "      <td>/r/football/comments/xzxrr4/learn_about_alahly...</td>\n",
       "      <td>1</td>\n",
       "      <td>[removed]</td>\n",
       "      <td>football</td>\n",
       "      <td>Learn about Al-Ahly’s confrontations after the...</td>\n",
       "      <td>https://www.reddit.com/r/football/comments/xzx...</td>\n",
       "      <td>True</td>\n",
       "      <td>submission</td>\n",
       "    </tr>\n",
       "    <tr>\n",
       "      <th>...</th>\n",
       "      <td>...</td>\n",
       "      <td>...</td>\n",
       "      <td>...</td>\n",
       "      <td>...</td>\n",
       "      <td>...</td>\n",
       "      <td>...</td>\n",
       "      <td>...</td>\n",
       "      <td>...</td>\n",
       "      <td>...</td>\n",
       "      <td>...</td>\n",
       "      <td>...</td>\n",
       "      <td>...</td>\n",
       "      <td>...</td>\n",
       "    </tr>\n",
       "    <tr>\n",
       "      <th>4301</th>\n",
       "      <td>Atachey</td>\n",
       "      <td>t2_2xzu3ntc</td>\n",
       "      <td>1663777565</td>\n",
       "      <td>xk9lf4</td>\n",
       "      <td>1</td>\n",
       "      <td>/r/football/comments/xk9lf4/ronaldo_vs_messi_s...</td>\n",
       "      <td>1</td>\n",
       "      <td></td>\n",
       "      <td>football</td>\n",
       "      <td>RONALDO !VS! MESSI #shorts siuuuuuu</td>\n",
       "      <td>https://youtube.com/watch?v=I64UsA8Sxno&amp;amp;fe...</td>\n",
       "      <td>False</td>\n",
       "      <td>submission</td>\n",
       "    </tr>\n",
       "    <tr>\n",
       "      <th>4302</th>\n",
       "      <td>BillyFarmer123</td>\n",
       "      <td>t2_ihjbmigk</td>\n",
       "      <td>1663781165</td>\n",
       "      <td>xkb6u8</td>\n",
       "      <td>1</td>\n",
       "      <td>/r/football/comments/xkb6u8/premier_league_sta...</td>\n",
       "      <td>1</td>\n",
       "      <td></td>\n",
       "      <td>football</td>\n",
       "      <td>Premier League Stats Leaders during the 2018/1...</td>\n",
       "      <td>https://i.redd.it/aezoafl2x8p91.png</td>\n",
       "      <td>False</td>\n",
       "      <td>submission</td>\n",
       "    </tr>\n",
       "    <tr>\n",
       "      <th>4303</th>\n",
       "      <td>MatchCaster</td>\n",
       "      <td>t2_7h7t33at</td>\n",
       "      <td>1663785949</td>\n",
       "      <td>xkdan7</td>\n",
       "      <td>1</td>\n",
       "      <td>/r/football/comments/xkdan7/match_thread_uefa_...</td>\n",
       "      <td>1</td>\n",
       "      <td>#[UEFA Nations League - 2022/2023 - League B -...</td>\n",
       "      <td>football</td>\n",
       "      <td>[Match thread - UEFA Nations League] Scotland ...</td>\n",
       "      <td>https://www.reddit.com/r/football/comments/xkd...</td>\n",
       "      <td>True</td>\n",
       "      <td>submission</td>\n",
       "    </tr>\n",
       "    <tr>\n",
       "      <th>4304</th>\n",
       "      <td>Revolutionary_Pen190</td>\n",
       "      <td>t2_9d7x76qo</td>\n",
       "      <td>1663786637</td>\n",
       "      <td>xkdl5v</td>\n",
       "      <td>0</td>\n",
       "      <td>/r/football/comments/xkdl5v/sky_sports_rolling...</td>\n",
       "      <td>1</td>\n",
       "      <td>[removed]</td>\n",
       "      <td>football</td>\n",
       "      <td>Sky Sports rolling out the 3 part special of P...</td>\n",
       "      <td>https://www.reddit.com/r/football/comments/xkd...</td>\n",
       "      <td>True</td>\n",
       "      <td>submission</td>\n",
       "    </tr>\n",
       "    <tr>\n",
       "      <th>4305</th>\n",
       "      <td>scra1i</td>\n",
       "      <td>t2_3nuun5yk</td>\n",
       "      <td>1663789122</td>\n",
       "      <td>xkeoe7</td>\n",
       "      <td>0</td>\n",
       "      <td>/r/football/comments/xkeoe7/nike_phantom_hyper...</td>\n",
       "      <td>1</td>\n",
       "      <td>Fire pack.\\nBest shoe nike ever created</td>\n",
       "      <td>football</td>\n",
       "      <td>Nike phantom hypervenom phelon 3</td>\n",
       "      <td>https://www.reddit.com/r/football/comments/xke...</td>\n",
       "      <td>True</td>\n",
       "      <td>submission</td>\n",
       "    </tr>\n",
       "  </tbody>\n",
       "</table>\n",
       "<p>896 rows × 13 columns</p>\n",
       "</div>"
      ],
      "text/plain": [
       "                    author author_fullname  created_utc      id  num_comments  \\\n",
       "0                 BrucieBe     t2_c74yaou6   1665345358  xzunrc             0   \n",
       "1              MatchCaster     t2_7h7t33at   1665346537  xzv4s6             1   \n",
       "2            howdoesitw0rk     t2_cwxevg2z   1665349373  xzw94m             0   \n",
       "3           Open_Spend3105     t2_iiz0rlxm   1665349597  xzwc7b             1   \n",
       "4                 koraaa24     t2_syt1bbhi   1665353274  xzxrr4             0   \n",
       "...                    ...             ...          ...     ...           ...   \n",
       "4301               Atachey     t2_2xzu3ntc   1663777565  xk9lf4             1   \n",
       "4302        BillyFarmer123     t2_ihjbmigk   1663781165  xkb6u8             1   \n",
       "4303           MatchCaster     t2_7h7t33at   1663785949  xkdan7             1   \n",
       "4304  Revolutionary_Pen190     t2_9d7x76qo   1663786637  xkdl5v             0   \n",
       "4305                scra1i     t2_3nuun5yk   1663789122  xkeoe7             0   \n",
       "\n",
       "                                              permalink  score  \\\n",
       "0     /r/football/comments/xzunrc/i_love_football_bu...      1   \n",
       "1     /r/football/comments/xzv4s6/match_thread_liga_...      1   \n",
       "2     /r/football/comments/xzw94m/hello_fam_i_want_t...      1   \n",
       "3     /r/football/comments/xzwc7b/idk_neymarrrrrrrrr...      1   \n",
       "4     /r/football/comments/xzxrr4/learn_about_alahly...      1   \n",
       "...                                                 ...    ...   \n",
       "4301  /r/football/comments/xk9lf4/ronaldo_vs_messi_s...      1   \n",
       "4302  /r/football/comments/xkb6u8/premier_league_sta...      1   \n",
       "4303  /r/football/comments/xkdan7/match_thread_uefa_...      1   \n",
       "4304  /r/football/comments/xkdl5v/sky_sports_rolling...      1   \n",
       "4305  /r/football/comments/xkeoe7/nike_phantom_hyper...      1   \n",
       "\n",
       "                                               selftext subreddit  \\\n",
       "0                                             [removed]  football   \n",
       "1     #[Liga Profesional Argentina - 2022/2023 - 2nd...  football   \n",
       "2                                             [removed]  football   \n",
       "3                                                        football   \n",
       "4                                             [removed]  football   \n",
       "...                                                 ...       ...   \n",
       "4301                                                     football   \n",
       "4302                                                     football   \n",
       "4303  #[UEFA Nations League - 2022/2023 - League B -...  football   \n",
       "4304                                          [removed]  football   \n",
       "4305            Fire pack.\\nBest shoe nike ever created  football   \n",
       "\n",
       "                                                  title  \\\n",
       "0     I love football, but there’s nothing worse to ...   \n",
       "1     [Match thread - Liga Profesional Argentina] Bo...   \n",
       "2     Hello fam, I want to know about how to convert...   \n",
       "3                       idk neymarrrrrrrrrrrrrrrrrrrrrr   \n",
       "4     Learn about Al-Ahly’s confrontations after the...   \n",
       "...                                                 ...   \n",
       "4301                RONALDO !VS! MESSI #shorts siuuuuuu   \n",
       "4302  Premier League Stats Leaders during the 2018/1...   \n",
       "4303  [Match thread - UEFA Nations League] Scotland ...   \n",
       "4304  Sky Sports rolling out the 3 part special of P...   \n",
       "4305                   Nike phantom hypervenom phelon 3   \n",
       "\n",
       "                                                    url  is_self   post_type  \n",
       "0     https://www.reddit.com/r/football/comments/xzu...     True  submission  \n",
       "1     https://www.reddit.com/r/football/comments/xzv...     True  submission  \n",
       "2     https://www.reddit.com/r/football/comments/xzw...     True  submission  \n",
       "3                   https://i.redd.it/w6oaj8luhus91.jpg    False  submission  \n",
       "4     https://www.reddit.com/r/football/comments/xzx...     True  submission  \n",
       "...                                                 ...      ...         ...  \n",
       "4301  https://youtube.com/watch?v=I64UsA8Sxno&amp;fe...    False  submission  \n",
       "4302                https://i.redd.it/aezoafl2x8p91.png    False  submission  \n",
       "4303  https://www.reddit.com/r/football/comments/xkd...     True  submission  \n",
       "4304  https://www.reddit.com/r/football/comments/xkd...     True  submission  \n",
       "4305  https://www.reddit.com/r/football/comments/xke...     True  submission  \n",
       "\n",
       "[896 rows x 13 columns]"
      ]
     },
     "execution_count": 6,
     "metadata": {},
     "output_type": "execute_result"
    }
   ],
   "source": [
    "football_subs"
   ]
  },
  {
   "cell_type": "code",
   "execution_count": 7,
   "id": "1ba1fa1d",
   "metadata": {},
   "outputs": [],
   "source": [
    "df_sample = pd.concat([basketball_subs[['title', 'subreddit']], football_subs[['title', 'subreddit']]], ignore_index=True)\n",
    "df_sample.to_csv('submissions.csv', index=False)"
   ]
  },
  {
   "cell_type": "code",
   "execution_count": 8,
   "id": "e7a97c0c",
   "metadata": {},
   "outputs": [],
   "source": [
    "# function to find the frequently words\n",
    "#https://github.com/DespinaMatos25/Web-APIs-With-NLP/blob/2c299941a636a92cf589cc5fcd38352a6ae185ce/code/\n",
    "#02-EDA%2C%20Preprocessing%2C%20and%20Modeling.ipynb\n",
    "\n",
    "def word_counter(df):\n",
    "    \n",
    "    #Getting our text data in our dataframe and use the copy function so we will not miss up our dataframe\n",
    "    token = df.copy()\n",
    "    \n",
    "    #Instantiate tokenizer\n",
    "    tokenizer = RegexpTokenizer(r'[A-z]+')\n",
    "\n",
    "    #Run tokenizer, use join method to get our post to become lowercase\n",
    "    #Created with Noah C. \n",
    "    tokens = [\" \".join(tokenizer.tokenize(post.lower())) for post in token]\n",
    "    \n",
    "    #Instantiate lemmatizer\n",
    "    lemmatizer = WordNetLemmatizer()\n",
    "\n",
    "    #use the split method to split our posts and lemmatize individual words in each post \n",
    "    #Created with Noah C. \n",
    "    tokens_lem = [[lemmatizer.lemmatize(word) for word in post.split(' ')] for post in tokens]\n",
    "\n",
    "    #lemmatize tokens, use the join method to get our post to become lemmatize\n",
    "    #Created with Noah C.\n",
    "    lem_tokens = [\" \".join(post) for post in tokens_lem]\n",
    "    \n",
    "    #replace our text data with new lemmatize data\n",
    "    df = lem_tokens\n",
    "    \n",
    "    #Instantiate a CountVectorizer\n",
    "    cvec = CountVectorizer(stop_words = 'english')\n",
    "    #using the stop words parameter & setting it to english to eliminate a group of words\n",
    "    \n",
    "    #fit the vectorizer on our corpus\n",
    "    cvec.fit(df)\n",
    "    \n",
    "    #transform the corpus\n",
    "    title = cvec.transform(df)\n",
    "    \n",
    "    #convert df into a dataframe\n",
    "    df = pd.DataFrame(title.toarray(), #able to have strings into floats\n",
    "                          columns = cvec.get_feature_names()) #get feature row names\n",
    "\n",
    "    #Word counts \n",
    "    counts = df.sum().sort_values(ascending=False)\n",
    "    \n",
    "    return counts\n"
   ]
  },
  {
   "cell_type": "code",
   "execution_count": 9,
   "id": "450ca806",
   "metadata": {},
   "outputs": [
    {
     "name": "stderr",
     "output_type": "stream",
     "text": [
      "/Users/aditisharma/opt/anaconda3/envs/t-flowenv/lib/python3.7/site-packages/sklearn/utils/deprecation.py:87: FutureWarning: Function get_feature_names is deprecated; get_feature_names is deprecated in 1.0 and will be removed in 1.2. Please use get_feature_names_out instead.\n",
      "  warnings.warn(msg, category=FutureWarning)\n"
     ]
    },
    {
     "data": {
      "text/plain": [
       "basketball    86\n",
       "nba           39\n",
       "player        33\n",
       "game          26\n",
       "best          18\n",
       "              ..\n",
       "maybe          1\n",
       "mb             1\n",
       "cpn            1\n",
       "meer           1\n",
       "zelle          1\n",
       "Length: 954, dtype: int64"
      ]
     },
     "execution_count": 9,
     "metadata": {},
     "output_type": "execute_result"
    }
   ],
   "source": [
    "word_counter(basketball_subs['title'])"
   ]
  },
  {
   "cell_type": "code",
   "execution_count": 10,
   "id": "644ae715",
   "metadata": {},
   "outputs": [
    {
     "data": {
      "text/plain": [
       "football    145\n",
       "match        95\n",
       "league       92\n",
       "world        85\n",
       "cup          79\n",
       "           ... \n",
       "houston       1\n",
       "hotspur       1\n",
       "hosting       1\n",
       "horror        1\n",
       "zlatan        1\n",
       "Length: 2036, dtype: int64"
      ]
     },
     "execution_count": 10,
     "metadata": {},
     "output_type": "execute_result"
    }
   ],
   "source": [
    "word_counter(football_subs['title'])"
   ]
  },
  {
   "cell_type": "code",
   "execution_count": 11,
   "id": "3b719ce6",
   "metadata": {},
   "outputs": [],
   "source": [
    "basketball_wordcount = pd.DataFrame(data = word_counter(basketball_subs['title']), columns = [\"Frequency\"]) "
   ]
  },
  {
   "cell_type": "code",
   "execution_count": 12,
   "id": "7a9e73e5",
   "metadata": {},
   "outputs": [],
   "source": [
    "basketball_wordcount_top25 = basketball_wordcount.head(25)"
   ]
  },
  {
   "cell_type": "code",
   "execution_count": 13,
   "id": "7fdd332b",
   "metadata": {},
   "outputs": [
    {
     "data": {
      "image/png": "[encoded data removed]",
      "text/plain": [
       "<Figure size 1500x1000 with 1 Axes>"
      ]
     },
     "metadata": {},
     "output_type": "display_data"
    }
   ],
   "source": [
    "basketball_wordcount_top25.sort_values(by = 'Frequency', #by the fequency column\n",
    "                                  ascending = True).plot(kind = 'barh', #barh type\n",
    "                                                         color = 'indigo', #color\n",
    "                                                         figsize = (15,10))#graph size\n",
    "\n",
    "plt.xlabel('Frequency', fontsize = 20)#xlabel on graph\n",
    "plt.ylabel('Words', fontsize = 20)#ylabel on graph \n",
    "plt.xticks(np.arange(0, 120, step = 10))#change the ticks on the x-axis\n",
    "\n",
    "plt.title(\"Top 25 Frequently Used Single Words in the Basketball Subreddit\", fontsize = 18); #title"
   ]
  },
  {
   "cell_type": "code",
   "execution_count": 14,
   "id": "d2ef0fad",
   "metadata": {},
   "outputs": [],
   "source": [
    "football_wordcount = pd.DataFrame(data = word_counter(football_subs['title']), columns = [\"Frequency\"]) "
   ]
  },
  {
   "cell_type": "code",
   "execution_count": 15,
   "id": "b2542c45",
   "metadata": {},
   "outputs": [],
   "source": [
    "football_wordcount_top25 = football_wordcount.head(25)"
   ]
  },
  {
   "cell_type": "code",
   "execution_count": 16,
   "id": "4c2d3353",
   "metadata": {},
   "outputs": [
    {
     "data": {
      "image/png": "[encoded data removed]",
      "text/plain": [
       "<Figure size 1500x1000 with 1 Axes>"
      ]
     },
     "metadata": {},
     "output_type": "display_data"
    }
   ],
   "source": [
    "football_wordcount_top25.sort_values(by = 'Frequency', #by the fequency column\n",
    "                                  ascending = True).plot(kind = 'barh', #barh type\n",
    "                                                         color = 'olive', #color\n",
    "                                                         figsize = (15,10))#graph size\n",
    "\n",
    "plt.xlabel('Frequency', fontsize = 15)#xlabel on graph\n",
    "plt.ylabel('Words', fontsize = 15)#ylabel on graph \n",
    "plt.xticks(np.arange(0, 170, step = 10))#change the ticks on the x-axis\n",
    "\n",
    "plt.title(\"Top 25 Frequently Used Single Words in the Football Subreddit\", fontsize = 18); #title"
   ]
  },
  {
   "cell_type": "code",
   "execution_count": 17,
   "id": "9e0e10c7",
   "metadata": {},
   "outputs": [],
   "source": [
    "#lets create a function to find the similar words\n",
    "def word_counter_two(df):\n",
    "    \n",
    "    #Getting our text data in our dataframe and use the copy function so we will not miss up our dataframe\n",
    "    token = df.copy()\n",
    "    \n",
    "    #Instantiate tokenizer\n",
    "    tokenizer = RegexpTokenizer(r'[A-z]+')\n",
    "\n",
    "    #Run tokenizer, use join method to get our post to become lowercase\n",
    "    #Created with Noah C. \n",
    "    tokens = [\" \".join(tokenizer.tokenize(post.lower())) for post in token]\n",
    "    \n",
    "    #Instantiate lemmatizer\n",
    "    lemmatizer = WordNetLemmatizer()\n",
    "\n",
    "    #use the split method to split our posts and lemmatize individual words in each post \n",
    "    #Created with Noah C. \n",
    "    tokens_lem = [[lemmatizer.lemmatize(word) for word in post.split(' ')] for post in tokens]\n",
    "\n",
    "    #lemmatize tokens, use the join method to get our post to become lemmatize\n",
    "    #Created with Noah C.\n",
    "    lem_tokens = [\" \".join(post) for post in tokens_lem]\n",
    "    \n",
    "    #replace our text data with new lemmatize data\n",
    "    df = lem_tokens\n",
    "    \n",
    "    #Instantiate a CountVectorizer\n",
    "    cvec = CountVectorizer(stop_words = 'english',\n",
    "                            ngram_range = (2,2))#getting bigram words\n",
    "    #using the stop words parameter & setting it to english to eliminate a group of words\n",
    "    \n",
    "    #fit the vectorizer on our corpus\n",
    "    cvec.fit(df)\n",
    "    \n",
    "    #transform the corpus\n",
    "    title = cvec.transform(df)\n",
    "    \n",
    "    #convert df into a dataframe\n",
    "    df = pd.DataFrame(title.toarray(), #able to have strings into floats\n",
    "                          columns = cvec.get_feature_names()) #get feature row names\n",
    "\n",
    "    #Word counts \n",
    "    counts = df.sum().sort_values(ascending=False)\n",
    "    \n",
    "    return counts"
   ]
  },
  {
   "cell_type": "code",
   "execution_count": 18,
   "id": "32b9b4bc",
   "metadata": {},
   "outputs": [
    {
     "data": {
      "text/plain": [
       "world cup          8\n",
       "basketball shoe    7\n",
       "nba player         6\n",
       "nba game           5\n",
       "lebron james       5\n",
       "                  ..\n",
       "got embarrassed    1\n",
       "got arrested       1\n",
       "good year          1\n",
       "good streaming     1\n",
       "zelle venmo        1\n",
       "Length: 1345, dtype: int64"
      ]
     },
     "execution_count": 18,
     "metadata": {},
     "output_type": "execute_result"
    }
   ],
   "source": [
    "word_counter_two(basketball_subs['title'])\n"
   ]
  },
  {
   "cell_type": "code",
   "execution_count": 19,
   "id": "621eee0c",
   "metadata": {},
   "outputs": [],
   "source": [
    "basketball_wordcount_two = pd.DataFrame(data = word_counter_two(basketball_subs['title']),#using the function above\n",
    "                               columns = [\"Frequency\"]) #calling the column frequency"
   ]
  },
  {
   "cell_type": "code",
   "execution_count": 20,
   "id": "3d4d9610",
   "metadata": {},
   "outputs": [],
   "source": [
    "basketball_wordcount_two_top25 = basketball_wordcount_two.head(25)\n"
   ]
  },
  {
   "cell_type": "code",
   "execution_count": 21,
   "id": "3347af70",
   "metadata": {},
   "outputs": [
    {
     "data": {
      "image/png": "[encoded data removed]",
      "text/plain": [
       "<Figure size 1500x700 with 1 Axes>"
      ]
     },
     "metadata": {},
     "output_type": "display_data"
    }
   ],
   "source": [
    "#creating a barh graph for the wordcount dataframe \n",
    "\n",
    "#create a barh of our data\n",
    "basketball_wordcount_two_top25.sort_values(by = 'Frequency', #by the fequency column\n",
    "                                  ascending = True).plot(kind = 'barh', #barh type\n",
    "                                                         color = 'green', #color\n",
    "                                                         figsize = (15,7))#graph size\n",
    "\n",
    "plt.xlabel('Frequency', fontsize = 15)#xlabel on graph\n",
    "plt.ylabel('Words', fontsize = 15)#ylabel on graph \n",
    "plt.xticks(np.arange(0, 16, step = 1))#change the ticks on the x-axis\n",
    "\n",
    "plt.title(\"Top 25 Frequently Bigram Words in the Basketball Subreddit\", fontsize = 18); #title"
   ]
  },
  {
   "cell_type": "code",
   "execution_count": 22,
   "id": "2c36c18a",
   "metadata": {},
   "outputs": [
    {
     "data": {
      "text/plain": [
       "world cup             72\n",
       "match thread          57\n",
       "medici etherton       34\n",
       "premier league        28\n",
       "gena medici           26\n",
       "                      ..\n",
       "goat debate            1\n",
       "goat marqu             1\n",
       "god artist             1\n",
       "god holy               1\n",
       "zlatan ibrahimovic     1\n",
       "Length: 3730, dtype: int64"
      ]
     },
     "execution_count": 22,
     "metadata": {},
     "output_type": "execute_result"
    }
   ],
   "source": [
    "word_counter_two(football_subs['title'])\n"
   ]
  },
  {
   "cell_type": "code",
   "execution_count": 23,
   "id": "ac77e819",
   "metadata": {},
   "outputs": [],
   "source": [
    "football_wordcount_two = pd.DataFrame(data = word_counter_two(football_subs['title']),#using the function above\n",
    "                               columns = [\"Frequency\"]) #calling the column frequency"
   ]
  },
  {
   "cell_type": "code",
   "execution_count": 24,
   "id": "433abf99",
   "metadata": {},
   "outputs": [],
   "source": [
    "football_wordcount_two_top25 = football_wordcount_two.head(25)\n"
   ]
  },
  {
   "cell_type": "code",
   "execution_count": 25,
   "id": "d8500ca4",
   "metadata": {},
   "outputs": [
    {
     "data": {
      "image/png": "[encoded data removed]",
      "text/plain": [
       "<Figure size 1500x700 with 1 Axes>"
      ]
     },
     "metadata": {},
     "output_type": "display_data"
    }
   ],
   "source": [
    "#create a barh of our data\n",
    "football_wordcount_two_top25.sort_values(by = 'Frequency', #by the fequency column\n",
    "                                  ascending = True).plot(kind = 'barh', #barh type\n",
    "                                                         color = 'green', #color\n",
    "                                                         figsize = (15,7))#graph size\n",
    "\n",
    "plt.xlabel('Frequency', fontsize = 15)#xlabel on graph\n",
    "plt.ylabel('Words', fontsize = 15)#ylabel on graph \n",
    "plt.xticks(np.arange(0, 16, step = 1))#change the ticks on the x-axis\n",
    "\n",
    "plt.title(\"Top 25 Frequently Bigram Words in the Foottball Subreddit\", fontsize = 18); #title"
   ]
  },
  {
   "cell_type": "code",
   "execution_count": 26,
   "id": "4b2fad97",
   "metadata": {},
   "outputs": [],
   "source": [
    "#importing libraries"
   ]
  },
  {
   "cell_type": "code",
   "execution_count": 27,
   "id": "98fee989",
   "metadata": {},
   "outputs": [],
   "source": [
    "import string\n",
    "import re\n",
    "from nltk.stem import WordNetLemmatizer\n",
    "from sklearn.feature_extraction.text import CountVectorizer, TfidfVectorizer\n",
    "from sklearn.pipeline import Pipeline\n",
    "from sklearn.naive_bayes import MultinomialNB\n",
    "from sklearn.model_selection import train_test_split, GridSearchCV"
   ]
  },
  {
   "cell_type": "code",
   "execution_count": 28,
   "id": "0af11cfa",
   "metadata": {},
   "outputs": [],
   "source": [
    "df = pd.read_csv('submissions.csv')"
   ]
  },
  {
   "cell_type": "code",
   "execution_count": 29,
   "id": "c68fd10e",
   "metadata": {},
   "outputs": [
    {
     "data": {
      "text/html": [
       "<div>\n",
       "<style scoped>\n",
       "    .dataframe tbody tr th:only-of-type {\n",
       "        vertical-align: middle;\n",
       "    }\n",
       "\n",
       "    .dataframe tbody tr th {\n",
       "        vertical-align: top;\n",
       "    }\n",
       "\n",
       "    .dataframe thead th {\n",
       "        text-align: right;\n",
       "    }\n",
       "</style>\n",
       "<table border=\"1\" class=\"dataframe\">\n",
       "  <thead>\n",
       "    <tr style=\"text-align: right;\">\n",
       "      <th></th>\n",
       "      <th>title</th>\n",
       "      <th>subreddit</th>\n",
       "    </tr>\n",
       "  </thead>\n",
       "  <tbody>\n",
       "    <tr>\n",
       "      <th>0</th>\n",
       "      <td>Basketball connects people - a nice fundraisin...</td>\n",
       "      <td>Basketball</td>\n",
       "    </tr>\n",
       "    <tr>\n",
       "      <th>1</th>\n",
       "      <td>Basketball connects people - a nice fundraisin...</td>\n",
       "      <td>Basketball</td>\n",
       "    </tr>\n",
       "    <tr>\n",
       "      <th>2</th>\n",
       "      <td>Sui</td>\n",
       "      <td>Basketball</td>\n",
       "    </tr>\n",
       "    <tr>\n",
       "      <th>3</th>\n",
       "      <td>Mike WiLL Made-It - 23 ft. Miley Cyrus, Wiz Kh...</td>\n",
       "      <td>Basketball</td>\n",
       "    </tr>\n",
       "    <tr>\n",
       "      <th>4</th>\n",
       "      <td>Maxey: like Hal Greer? Great jumper, smooth, a...</td>\n",
       "      <td>Basketball</td>\n",
       "    </tr>\n",
       "  </tbody>\n",
       "</table>\n",
       "</div>"
      ],
      "text/plain": [
       "                                               title   subreddit\n",
       "0  Basketball connects people - a nice fundraisin...  Basketball\n",
       "1  Basketball connects people - a nice fundraisin...  Basketball\n",
       "2                                                Sui  Basketball\n",
       "3  Mike WiLL Made-It - 23 ft. Miley Cyrus, Wiz Kh...  Basketball\n",
       "4  Maxey: like Hal Greer? Great jumper, smooth, a...  Basketball"
      ]
     },
     "execution_count": 29,
     "metadata": {},
     "output_type": "execute_result"
    }
   ],
   "source": [
    "df.head()\n"
   ]
  },
  {
   "cell_type": "code",
   "execution_count": 30,
   "id": "53d8aeab",
   "metadata": {},
   "outputs": [
    {
     "data": {
      "text/html": [
       "<div>\n",
       "<style scoped>\n",
       "    .dataframe tbody tr th:only-of-type {\n",
       "        vertical-align: middle;\n",
       "    }\n",
       "\n",
       "    .dataframe tbody tr th {\n",
       "        vertical-align: top;\n",
       "    }\n",
       "\n",
       "    .dataframe thead th {\n",
       "        text-align: right;\n",
       "    }\n",
       "</style>\n",
       "<table border=\"1\" class=\"dataframe\">\n",
       "  <thead>\n",
       "    <tr style=\"text-align: right;\">\n",
       "      <th></th>\n",
       "      <th>title</th>\n",
       "      <th>target</th>\n",
       "    </tr>\n",
       "  </thead>\n",
       "  <tbody>\n",
       "    <tr>\n",
       "      <th>0</th>\n",
       "      <td>Basketball connects people - a nice fundraisin...</td>\n",
       "      <td>1</td>\n",
       "    </tr>\n",
       "    <tr>\n",
       "      <th>1</th>\n",
       "      <td>Basketball connects people - a nice fundraisin...</td>\n",
       "      <td>1</td>\n",
       "    </tr>\n",
       "    <tr>\n",
       "      <th>2</th>\n",
       "      <td>Sui</td>\n",
       "      <td>1</td>\n",
       "    </tr>\n",
       "    <tr>\n",
       "      <th>3</th>\n",
       "      <td>Mike WiLL Made-It - 23 ft. Miley Cyrus, Wiz Kh...</td>\n",
       "      <td>1</td>\n",
       "    </tr>\n",
       "    <tr>\n",
       "      <th>4</th>\n",
       "      <td>Maxey: like Hal Greer? Great jumper, smooth, a...</td>\n",
       "      <td>1</td>\n",
       "    </tr>\n",
       "  </tbody>\n",
       "</table>\n",
       "</div>"
      ],
      "text/plain": [
       "                                               title  target\n",
       "0  Basketball connects people - a nice fundraisin...       1\n",
       "1  Basketball connects people - a nice fundraisin...       1\n",
       "2                                                Sui       1\n",
       "3  Mike WiLL Made-It - 23 ft. Miley Cyrus, Wiz Kh...       1\n",
       "4  Maxey: like Hal Greer? Great jumper, smooth, a...       1"
      ]
     },
     "execution_count": 30,
     "metadata": {},
     "output_type": "execute_result"
    }
   ],
   "source": [
    "# Target is 'subreddit'. Current values: 'Basketball', 'football'.\n",
    "# Need to transform to 0 or 1 values. Set Basketball = 1, football = 0\n",
    "\n",
    "df['target'] = df['subreddit'].map({'Basketball': 1, 'football': 0})\n",
    "df.drop('subreddit', axis=1, inplace=True)\n",
    "df.head()"
   ]
  },
  {
   "cell_type": "code",
   "execution_count": 31,
   "id": "37aff30c",
   "metadata": {},
   "outputs": [
    {
     "data": {
      "text/plain": [
       "65"
      ]
     },
     "execution_count": 31,
     "metadata": {},
     "output_type": "execute_result"
    }
   ],
   "source": [
    "df.duplicated().sum()\n"
   ]
  },
  {
   "cell_type": "code",
   "execution_count": 32,
   "id": "ae54fe82",
   "metadata": {},
   "outputs": [
    {
     "data": {
      "text/plain": [
       "(1261, 2)"
      ]
     },
     "execution_count": 32,
     "metadata": {},
     "output_type": "execute_result"
    }
   ],
   "source": [
    "df.shape"
   ]
  },
  {
   "cell_type": "code",
   "execution_count": 33,
   "id": "8af41912",
   "metadata": {},
   "outputs": [],
   "source": [
    "df.drop_duplicates(inplace=True)\n"
   ]
  },
  {
   "cell_type": "code",
   "execution_count": 34,
   "id": "47f0adc0",
   "metadata": {},
   "outputs": [
    {
     "data": {
      "text/plain": [
       "(1196, 2)"
      ]
     },
     "execution_count": 34,
     "metadata": {},
     "output_type": "execute_result"
    }
   ],
   "source": [
    "df.shape"
   ]
  },
  {
   "cell_type": "code",
   "execution_count": 35,
   "id": "295b672e",
   "metadata": {},
   "outputs": [],
   "source": [
    "df = df.reset_index(drop=True)"
   ]
  },
  {
   "cell_type": "code",
   "execution_count": 36,
   "id": "3a46f39d",
   "metadata": {},
   "outputs": [],
   "source": [
    "# using cleaner to get rid 0f unnecessary data\n",
    "\n",
    "def cleaner(text):\n",
    "    # Make lowercase\n",
    "    text = text.lower()\n",
    "\n",
    "    # Remove HTML special entities (e.g. &amp;)\n",
    "    text = re.sub(r'\\&\\w*;', '', text)\n",
    "    \n",
    "    # Remove hyperlinks\n",
    "    text = re.sub(r'https?:\\/\\/.*\\/\\w*', '', text)\n",
    "    \n",
    "    # Remove punctuation and split 's, 't, 've with a space for filter\n",
    "    text = re.sub(r'[' + string.punctuation.replace('@', '') + ']+', ' ', text)\n",
    "    \n",
    "    # Remove words with 2 or fewer letters\n",
    "    text = re.sub(r'\\b\\w{1,2}\\b', '', text)\n",
    "    \n",
    "    # Remove whitespace (including new line characters)\n",
    "    text = re.sub(r'\\s\\s+', ' ', text)\n",
    "    \n",
    "    # Remove characters beyond Basic Multilingual Plane (BMP) of Unicode:\n",
    "    text = ''.join(c for c in text if c <= '\\uFFFF') \n",
    "    \n",
    "    return text\n"
   ]
  },
  {
   "cell_type": "code",
   "execution_count": 37,
   "id": "579a24d6",
   "metadata": {},
   "outputs": [],
   "source": [
    "df['title'] = df['title'].apply(cleaner)\n"
   ]
  },
  {
   "cell_type": "code",
   "execution_count": 38,
   "id": "ed351ffe",
   "metadata": {},
   "outputs": [
    {
     "data": {
      "text/plain": [
       "(1196, 2)"
      ]
     },
     "execution_count": 38,
     "metadata": {},
     "output_type": "execute_result"
    }
   ],
   "source": [
    "df.shape\n"
   ]
  },
  {
   "cell_type": "code",
   "execution_count": 39,
   "id": "3635b9a0",
   "metadata": {},
   "outputs": [],
   "source": [
    "df = df[df['title'] != '']\n",
    "df = df.reset_index(drop=True)\n"
   ]
  },
  {
   "cell_type": "code",
   "execution_count": 40,
   "id": "bf8170e9",
   "metadata": {},
   "outputs": [
    {
     "data": {
      "text/plain": [
       "(1192, 2)"
      ]
     },
     "execution_count": 40,
     "metadata": {},
     "output_type": "execute_result"
    }
   ],
   "source": [
    "df.shape"
   ]
  },
  {
   "cell_type": "code",
   "execution_count": 41,
   "id": "40252057",
   "metadata": {},
   "outputs": [],
   "source": [
    "#lemmatizing words \n",
    "\n",
    "lemmatizer = WordNetLemmatizer()\n",
    "\n",
    "def lemmatize_words(text):\n",
    "    words = text.split()\n",
    "    lemma_words = ''\n",
    "    for word in words:\n",
    "        lemma_words += (lemmatizer.lemmatize(word) + ' ')\n",
    "    return lemma_words "
   ]
  },
  {
   "cell_type": "code",
   "execution_count": 42,
   "id": "54ad69e1",
   "metadata": {},
   "outputs": [],
   "source": [
    "df['title'] = df['title'].apply(lemmatize_words)\n"
   ]
  },
  {
   "cell_type": "code",
   "execution_count": 43,
   "id": "33a530b5",
   "metadata": {},
   "outputs": [
    {
     "data": {
      "text/plain": [
       "(1192, 2)"
      ]
     },
     "execution_count": 43,
     "metadata": {},
     "output_type": "execute_result"
    }
   ],
   "source": [
    "df.shape\n"
   ]
  },
  {
   "cell_type": "code",
   "execution_count": 44,
   "id": "15674b50",
   "metadata": {},
   "outputs": [],
   "source": [
    "# drop rows where body = ''\n",
    "df = df[df['title'] != '']\n",
    "df = df.reset_index(drop=True)"
   ]
  },
  {
   "cell_type": "code",
   "execution_count": 45,
   "id": "486dc802",
   "metadata": {},
   "outputs": [
    {
     "data": {
      "text/plain": [
       "(1191, 2)"
      ]
     },
     "execution_count": 45,
     "metadata": {},
     "output_type": "execute_result"
    }
   ],
   "source": [
    "df.shape"
   ]
  },
  {
   "cell_type": "code",
   "execution_count": 46,
   "id": "eec75235",
   "metadata": {},
   "outputs": [],
   "source": [
    "df.to_csv('submissions_clean.csv', index=False)\n"
   ]
  },
  {
   "cell_type": "code",
   "execution_count": 47,
   "id": "7b48a6a7",
   "metadata": {},
   "outputs": [],
   "source": [
    "# Easy way to get most frequently used words: change max_features\n",
    "\n",
    "count_vect = CountVectorizer(analyzer = \"word\", \n",
    "                             tokenizer = None, \n",
    "                             preprocessor = None,\n",
    "                             stop_words = \"english\", \n",
    "                             max_features = 35) \n",
    "\n",
    "# input for CountVectorizer is an array of strings\n",
    "vector_input_basketball = df[df['target'] == 1]['title']\n",
    "\n",
    "# fit_transform the vectorizer\n",
    "basketball_words = count_vect.fit_transform(vector_input_basketball)\n",
    "\n",
    "# convert output to a Numpy array\n",
    "basketball_words = basketball_words.toarray()"
   ]
  },
  {
   "cell_type": "code",
   "execution_count": 48,
   "id": "06240221",
   "metadata": {},
   "outputs": [
    {
     "name": "stdout",
     "output_type": "stream",
     "text": [
      "['2022', 'ball', 'basketball', 'best', 'better', 'coach', 'doe', 'free', 'game', 'getting', 'good', 'help', 'highlight', 'james', 'know', 'lebron', 'make', 'nba', 'need', 'new', 'old', 'play', 'player', 'point', 'question', 'season', 'shoe', 'story', 'team', 'think', 'video', 'wa', 'want', 'world', 'year']\n"
     ]
    },
    {
     "name": "stderr",
     "output_type": "stream",
     "text": [
      "/Users/aditisharma/opt/anaconda3/envs/t-flowenv/lib/python3.7/site-packages/sklearn/utils/deprecation.py:87: FutureWarning: Function get_feature_names is deprecated; get_feature_names is deprecated in 1.0 and will be removed in 1.2. Please use get_feature_names_out instead.\n",
      "  warnings.warn(msg, category=FutureWarning)\n"
     ]
    }
   ],
   "source": [
    "basketball_word_list = count_vect.get_feature_names()\n",
    "print(basketball_word_list)"
   ]
  },
  {
   "cell_type": "code",
   "execution_count": 49,
   "id": "05bd2787",
   "metadata": {},
   "outputs": [],
   "source": [
    "# Easy way to get most frequently used words: change max_features\n",
    "\n",
    "count_vect = CountVectorizer(analyzer = \"word\", \n",
    "                             tokenizer = None, \n",
    "                             preprocessor = None,\n",
    "                             stop_words = \"english\", \n",
    "                             max_features = 35) \n",
    "\n",
    "# input for CountVectorizer is an array of strings\n",
    "vector_input_football = df[df['target'] == 0]['title']\n",
    "\n",
    "# fit_transform the vectorizer\n",
    "football_words = count_vect.fit_transform(vector_input_football)\n",
    "\n",
    "# convert output to a Numpy array\n",
    "football_words = football_words.toarray()"
   ]
  },
  {
   "cell_type": "code",
   "execution_count": 50,
   "id": "f1b0fcd6",
   "metadata": {},
   "outputs": [
    {
     "name": "stdout",
     "output_type": "stream",
     "text": [
      "['2022', 'best', 'champion', 'city', 'club', 'cup', 'etherton', 'fan', 'fifa', 'football', 'game', 'goal', 'good', 'ha', 'haaland', 'just', 'know', 'league', 'like', 'madrid', 'manchester', 'match', 'medici', 'messi', 'nation', 'player', 'premier', 'qatar', 'ronaldo', 'soccer', 'team', 'thread', 'time', 'uefa', 'world']\n"
     ]
    }
   ],
   "source": [
    "football_word_list = count_vect.get_feature_names()\n",
    "print(football_word_list)"
   ]
  },
  {
   "cell_type": "code",
   "execution_count": 51,
   "id": "6910bf70",
   "metadata": {},
   "outputs": [],
   "source": [
    "# Instantiate the \"CountVectorizer\" object, \n",
    "# CountVectorizer transforms the body text from the reddit into features (i.e. words)\n",
    "# and creates columns (vectors) with word counts for each comment\n",
    "\n",
    "count_vect = CountVectorizer(analyzer = \"word\", \n",
    "                             tokenizer = None, \n",
    "                             preprocessor = None,\n",
    "                             stop_words = 'english', \n",
    "                             max_features = 100, \n",
    "                             ngram_range=(1, 3)\n",
    "                            ) \n",
    "\n",
    "# input for CountVectorizer is an array of strings\n",
    "vector_input_basketball = df[df['target'] == 1]['title']\n",
    "\n",
    "# fit_transform the vectorizer\n",
    "basketball_words = count_vect.fit_transform(vector_input_basketball)\n",
    "\n",
    "# convert output to a Numpy array\n",
    "basketball_words = basketball_words.toarray()"
   ]
  },
  {
   "cell_type": "code",
   "execution_count": 52,
   "id": "af99cae2",
   "metadata": {},
   "outputs": [
    {
     "data": {
      "text/plain": [
       "basketball    85\n",
       "nba           38\n",
       "player        32\n",
       "game          25\n",
       "best          18\n",
       "team          14\n",
       "need          14\n",
       "lebron        13\n",
       "know          13\n",
       "ball          12\n",
       "dtype: int64"
      ]
     },
     "execution_count": 52,
     "metadata": {},
     "output_type": "execute_result"
    }
   ],
   "source": [
    "# ***to do*** (optional)\n",
    "# if the array is very large, it's faster to do a sum of the array first (which creates a vector of the sums)\n",
    "# and then combine that with the feature names in a dataframe\n",
    "\n",
    "basketball_matrix = pd.DataFrame(basketball_words, columns=count_vect.get_feature_names())\n",
    "\n",
    "basketball_matrix.sum().sort_values(ascending=False).head(10)"
   ]
  },
  {
   "cell_type": "code",
   "execution_count": 53,
   "id": "cdf7a756",
   "metadata": {},
   "outputs": [
    {
     "data": {
      "text/plain": [
       "basketball    0.243553\n",
       "nba           0.108883\n",
       "player        0.091691\n",
       "game          0.071633\n",
       "best          0.051576\n",
       "team          0.040115\n",
       "need          0.040115\n",
       "lebron        0.037249\n",
       "know          0.037249\n",
       "ball          0.034384\n",
       "dtype: float64"
      ]
     },
     "execution_count": 53,
     "metadata": {},
     "output_type": "execute_result"
    }
   ],
   "source": [
    "basketball_matrix.mean().sort_values(ascending=False).head(10)\n"
   ]
  },
  {
   "cell_type": "code",
   "execution_count": 54,
   "id": "77d1d212",
   "metadata": {},
   "outputs": [],
   "source": [
    "count_vect = CountVectorizer(analyzer = \"word\", \n",
    "                             tokenizer = None, \n",
    "                             preprocessor = None,\n",
    "                             stop_words = 'english', \n",
    "                             max_features = 10000, \n",
    "                             ngram_range=(1, 3)\n",
    "                            ) \n",
    "\n",
    "# input for CountVectorizer is an array of strings\n",
    "vector_input_football = df[df['target'] == 0]['title']\n",
    "\n",
    "# fit_transform the vectorizer\n",
    "football_words = count_vect.fit_transform(vector_input_football)\n",
    "\n",
    "# convert output to a Numpy array\n",
    "football_words = football_words.toarray()"
   ]
  },
  {
   "cell_type": "code",
   "execution_count": 55,
   "id": "b6bc09e6",
   "metadata": {},
   "outputs": [
    {
     "data": {
      "text/plain": [
       "football        126\n",
       "match            94\n",
       "league           91\n",
       "world            79\n",
       "cup              75\n",
       "world cup        68\n",
       "thread           61\n",
       "match thread     57\n",
       "player           56\n",
       "goal             44\n",
       "dtype: int64"
      ]
     },
     "execution_count": 55,
     "metadata": {},
     "output_type": "execute_result"
    }
   ],
   "source": [
    "football_matrix = pd.DataFrame(football_words, columns=count_vect.get_feature_names())\n",
    "\n",
    "football_matrix.sum().sort_values(ascending=False).head(10)"
   ]
  },
  {
   "cell_type": "code",
   "execution_count": 56,
   "id": "e76a32c9",
   "metadata": {},
   "outputs": [
    {
     "data": {
      "text/plain": [
       "football        0.149644\n",
       "match           0.111639\n",
       "league          0.108076\n",
       "world           0.093824\n",
       "cup             0.089074\n",
       "world cup       0.080760\n",
       "thread          0.072447\n",
       "match thread    0.067696\n",
       "player          0.066508\n",
       "goal            0.052257\n",
       "dtype: float64"
      ]
     },
     "execution_count": 56,
     "metadata": {},
     "output_type": "execute_result"
    }
   ],
   "source": [
    "football_matrix.mean().sort_values(ascending=False).head(10)\n"
   ]
  },
  {
   "cell_type": "code",
   "execution_count": null,
   "id": "d4508656",
   "metadata": {},
   "outputs": [],
   "source": []
  },
  {
   "cell_type": "code",
   "execution_count": 57,
   "id": "1bf0c062",
   "metadata": {},
   "outputs": [
    {
     "data": {
      "text/plain": [
       "basketball          12.329595\n",
       "nba                  5.804767\n",
       "player               5.382000\n",
       "game                 4.283522\n",
       "question             4.062861\n",
       "best                 3.564065\n",
       "good                 3.358464\n",
       "need                 3.309177\n",
       "know                 2.958439\n",
       "ball                 2.775417\n",
       "team                 2.693569\n",
       "play                 2.627493\n",
       "lebron               2.619815\n",
       "shoe                 2.346085\n",
       "help                 2.313548\n",
       "tip                  2.242799\n",
       "better               2.170282\n",
       "dunk                 2.140614\n",
       "coach                2.001010\n",
       "highlight            1.960867\n",
       "doe                  1.924278\n",
       "want                 1.923088\n",
       "make                 1.787616\n",
       "2022                 1.783379\n",
       "point                1.783047\n",
       "program              1.782906\n",
       "new                  1.782096\n",
       "shooting             1.758685\n",
       "getting              1.741162\n",
       "basketball shoe      1.741117\n",
       "guy                  1.736872\n",
       "net                  1.712795\n",
       "season               1.695878\n",
       "video                1.671897\n",
       "work                 1.667818\n",
       "old                  1.619395\n",
       "free                 1.579998\n",
       "brooklyn             1.572505\n",
       "brooklyn net         1.572505\n",
       "youtube              1.568319\n",
       "vertical             1.557827\n",
       "pick                 1.551191\n",
       "world                1.518744\n",
       "james                1.518594\n",
       "think                1.507761\n",
       "basketball coach     1.492913\n",
       "league               1.470928\n",
       "year                 1.456267\n",
       "hoop                 1.430798\n",
       "celtic               1.425560\n",
       "dtype: float64"
      ]
     },
     "execution_count": 57,
     "metadata": {},
     "output_type": "execute_result"
    }
   ],
   "source": [
    "tvec = TfidfVectorizer(analyzer = \"word\", \n",
    "                     stop_words = 'english', \n",
    "                     max_features = 10000, \n",
    "                     ngram_range = (1, 3))\n",
    "\n",
    "basketball_tf_words = tvec.fit_transform(vector_input_basketball)\n",
    "\n",
    "basketball_tf_words = basketball_tf_words.toarray()\n",
    "\n",
    "basketball_matrix = pd.DataFrame(basketball_tf_words, columns=tvec.get_feature_names())\n",
    "\n",
    "basketball_matrix.sum().sort_values(ascending=False).head(50)"
   ]
  },
  {
   "cell_type": "code",
   "execution_count": 58,
   "id": "e96ac127",
   "metadata": {},
   "outputs": [
    {
     "data": {
      "text/plain": [
       "football        15.311856\n",
       "match           12.154271\n",
       "league          11.384405\n",
       "world           10.323938\n",
       "thread           9.488304\n",
       "cup              9.436780\n",
       "match thread     9.010123\n",
       "world cup        8.980391\n",
       "player           8.651629\n",
       "ronaldo          7.149414\n",
       "dtype: float64"
      ]
     },
     "execution_count": 58,
     "metadata": {},
     "output_type": "execute_result"
    }
   ],
   "source": [
    "tvec = TfidfVectorizer(analyzer = \"word\", \n",
    "                     stop_words = 'english', \n",
    "                     max_features = 10000, \n",
    "                     ngram_range = (1, 3))\n",
    "\n",
    "football_tf_words = tvec.fit_transform(vector_input_football)\n",
    "\n",
    "football_tf_words = football_tf_words.toarray()\n",
    "\n",
    "football_matrix = pd.DataFrame(football_tf_words, columns=tvec.get_feature_names())\n",
    "\n",
    "football_matrix.sum().sort_values(ascending=False).head(10)\n"
   ]
  },
  {
   "cell_type": "code",
   "execution_count": 59,
   "id": "15c66d54",
   "metadata": {},
   "outputs": [],
   "source": [
    "#modelling"
   ]
  },
  {
   "cell_type": "code",
   "execution_count": 60,
   "id": "1fa3cbdf",
   "metadata": {},
   "outputs": [],
   "source": [
    "from sklearn.ensemble import RandomForestClassifier\n",
    "from sklearn import metrics\n",
    "from sklearn.linear_model import LogisticRegression\n",
    "\n",
    "import matplotlib.pyplot as plt\n",
    "\n",
    "%matplotlib inline "
   ]
  },
  {
   "cell_type": "code",
   "execution_count": 61,
   "id": "983066f5",
   "metadata": {},
   "outputs": [
    {
     "data": {
      "text/html": [
       "<div>\n",
       "<style scoped>\n",
       "    .dataframe tbody tr th:only-of-type {\n",
       "        vertical-align: middle;\n",
       "    }\n",
       "\n",
       "    .dataframe tbody tr th {\n",
       "        vertical-align: top;\n",
       "    }\n",
       "\n",
       "    .dataframe thead th {\n",
       "        text-align: right;\n",
       "    }\n",
       "</style>\n",
       "<table border=\"1\" class=\"dataframe\">\n",
       "  <thead>\n",
       "    <tr style=\"text-align: right;\">\n",
       "      <th></th>\n",
       "      <th>title</th>\n",
       "      <th>target</th>\n",
       "    </tr>\n",
       "  </thead>\n",
       "  <tbody>\n",
       "    <tr>\n",
       "      <th>0</th>\n",
       "      <td>basketball connects people nice fundraising st...</td>\n",
       "      <td>1</td>\n",
       "    </tr>\n",
       "    <tr>\n",
       "      <th>1</th>\n",
       "      <td>basketball connects people nice fundraising st...</td>\n",
       "      <td>1</td>\n",
       "    </tr>\n",
       "    <tr>\n",
       "      <th>2</th>\n",
       "      <td>sui</td>\n",
       "      <td>1</td>\n",
       "    </tr>\n",
       "    <tr>\n",
       "      <th>3</th>\n",
       "      <td>mike will made miley cyrus wiz khalifa juicy</td>\n",
       "      <td>1</td>\n",
       "    </tr>\n",
       "    <tr>\n",
       "      <th>4</th>\n",
       "      <td>maxey like hal greer great jumper smooth athle...</td>\n",
       "      <td>1</td>\n",
       "    </tr>\n",
       "  </tbody>\n",
       "</table>\n",
       "</div>"
      ],
      "text/plain": [
       "                                               title  target\n",
       "0  basketball connects people nice fundraising st...       1\n",
       "1  basketball connects people nice fundraising st...       1\n",
       "2                                               sui        1\n",
       "3      mike will made miley cyrus wiz khalifa juicy        1\n",
       "4  maxey like hal greer great jumper smooth athle...       1"
      ]
     },
     "execution_count": 61,
     "metadata": {},
     "output_type": "execute_result"
    }
   ],
   "source": [
    "df.head()"
   ]
  },
  {
   "cell_type": "code",
   "execution_count": 62,
   "id": "468f12d1",
   "metadata": {},
   "outputs": [
    {
     "name": "stdout",
     "output_type": "stream",
     "text": [
      "<class 'pandas.core.frame.DataFrame'>\n",
      "RangeIndex: 1191 entries, 0 to 1190\n",
      "Data columns (total 2 columns):\n",
      " #   Column  Non-Null Count  Dtype \n",
      "---  ------  --------------  ----- \n",
      " 0   title   1191 non-null   object\n",
      " 1   target  1191 non-null   int64 \n",
      "dtypes: int64(1), object(1)\n",
      "memory usage: 18.7+ KB\n"
     ]
    }
   ],
   "source": [
    "df.info()"
   ]
  },
  {
   "cell_type": "code",
   "execution_count": 63,
   "id": "e486e607",
   "metadata": {},
   "outputs": [
    {
     "data": {
      "text/plain": [
       "0    0.706969\n",
       "1    0.293031\n",
       "Name: target, dtype: float64"
      ]
     },
     "execution_count": 63,
     "metadata": {},
     "output_type": "execute_result"
    }
   ],
   "source": [
    "X = df['title']\n",
    "y = df['target']\n",
    "\n",
    "y.value_counts(normalize=True)"
   ]
  },
  {
   "cell_type": "code",
   "execution_count": 64,
   "id": "57cd696d",
   "metadata": {},
   "outputs": [],
   "source": [
    "X_train, X_test, y_train, y_test = train_test_split(X, y, stratify=y, random_state=42)\n"
   ]
  },
  {
   "cell_type": "code",
   "execution_count": 65,
   "id": "dfd9ebdd",
   "metadata": {},
   "outputs": [],
   "source": [
    "from sklearn.feature_extraction import text\n",
    "\n",
    "text.ENGLISH_STOP_WORDS\n",
    "\n",
    "add_stop_words = ['did', 'doe', 'don', 'doesn', 'getting', 'going', 'got', 'ha', 'isn', 'wa']\n",
    "\n",
    "stop_words = text.ENGLISH_STOP_WORDS.union(add_stop_words)"
   ]
  },
  {
   "cell_type": "code",
   "execution_count": 66,
   "id": "b1949873",
   "metadata": {},
   "outputs": [
    {
     "data": {
      "text/plain": [
       "frozenset({'a',\n",
       "           'about',\n",
       "           'above',\n",
       "           'across',\n",
       "           'after',\n",
       "           'afterwards',\n",
       "           'again',\n",
       "           'against',\n",
       "           'all',\n",
       "           'almost',\n",
       "           'alone',\n",
       "           'along',\n",
       "           'already',\n",
       "           'also',\n",
       "           'although',\n",
       "           'always',\n",
       "           'am',\n",
       "           'among',\n",
       "           'amongst',\n",
       "           'amoungst',\n",
       "           'amount',\n",
       "           'an',\n",
       "           'and',\n",
       "           'another',\n",
       "           'any',\n",
       "           'anyhow',\n",
       "           'anyone',\n",
       "           'anything',\n",
       "           'anyway',\n",
       "           'anywhere',\n",
       "           'are',\n",
       "           'around',\n",
       "           'as',\n",
       "           'at',\n",
       "           'back',\n",
       "           'be',\n",
       "           'became',\n",
       "           'because',\n",
       "           'become',\n",
       "           'becomes',\n",
       "           'becoming',\n",
       "           'been',\n",
       "           'before',\n",
       "           'beforehand',\n",
       "           'behind',\n",
       "           'being',\n",
       "           'below',\n",
       "           'beside',\n",
       "           'besides',\n",
       "           'between',\n",
       "           'beyond',\n",
       "           'bill',\n",
       "           'both',\n",
       "           'bottom',\n",
       "           'but',\n",
       "           'by',\n",
       "           'call',\n",
       "           'can',\n",
       "           'cannot',\n",
       "           'cant',\n",
       "           'co',\n",
       "           'con',\n",
       "           'could',\n",
       "           'couldnt',\n",
       "           'cry',\n",
       "           'de',\n",
       "           'describe',\n",
       "           'detail',\n",
       "           'did',\n",
       "           'do',\n",
       "           'doe',\n",
       "           'doesn',\n",
       "           'don',\n",
       "           'done',\n",
       "           'down',\n",
       "           'due',\n",
       "           'during',\n",
       "           'each',\n",
       "           'eg',\n",
       "           'eight',\n",
       "           'either',\n",
       "           'eleven',\n",
       "           'else',\n",
       "           'elsewhere',\n",
       "           'empty',\n",
       "           'enough',\n",
       "           'etc',\n",
       "           'even',\n",
       "           'ever',\n",
       "           'every',\n",
       "           'everyone',\n",
       "           'everything',\n",
       "           'everywhere',\n",
       "           'except',\n",
       "           'few',\n",
       "           'fifteen',\n",
       "           'fifty',\n",
       "           'fill',\n",
       "           'find',\n",
       "           'fire',\n",
       "           'first',\n",
       "           'five',\n",
       "           'for',\n",
       "           'former',\n",
       "           'formerly',\n",
       "           'forty',\n",
       "           'found',\n",
       "           'four',\n",
       "           'from',\n",
       "           'front',\n",
       "           'full',\n",
       "           'further',\n",
       "           'get',\n",
       "           'getting',\n",
       "           'give',\n",
       "           'go',\n",
       "           'going',\n",
       "           'got',\n",
       "           'ha',\n",
       "           'had',\n",
       "           'has',\n",
       "           'hasnt',\n",
       "           'have',\n",
       "           'he',\n",
       "           'hence',\n",
       "           'her',\n",
       "           'here',\n",
       "           'hereafter',\n",
       "           'hereby',\n",
       "           'herein',\n",
       "           'hereupon',\n",
       "           'hers',\n",
       "           'herself',\n",
       "           'him',\n",
       "           'himself',\n",
       "           'his',\n",
       "           'how',\n",
       "           'however',\n",
       "           'hundred',\n",
       "           'i',\n",
       "           'ie',\n",
       "           'if',\n",
       "           'in',\n",
       "           'inc',\n",
       "           'indeed',\n",
       "           'interest',\n",
       "           'into',\n",
       "           'is',\n",
       "           'isn',\n",
       "           'it',\n",
       "           'its',\n",
       "           'itself',\n",
       "           'keep',\n",
       "           'last',\n",
       "           'latter',\n",
       "           'latterly',\n",
       "           'least',\n",
       "           'less',\n",
       "           'ltd',\n",
       "           'made',\n",
       "           'many',\n",
       "           'may',\n",
       "           'me',\n",
       "           'meanwhile',\n",
       "           'might',\n",
       "           'mill',\n",
       "           'mine',\n",
       "           'more',\n",
       "           'moreover',\n",
       "           'most',\n",
       "           'mostly',\n",
       "           'move',\n",
       "           'much',\n",
       "           'must',\n",
       "           'my',\n",
       "           'myself',\n",
       "           'name',\n",
       "           'namely',\n",
       "           'neither',\n",
       "           'never',\n",
       "           'nevertheless',\n",
       "           'next',\n",
       "           'nine',\n",
       "           'no',\n",
       "           'nobody',\n",
       "           'none',\n",
       "           'noone',\n",
       "           'nor',\n",
       "           'not',\n",
       "           'nothing',\n",
       "           'now',\n",
       "           'nowhere',\n",
       "           'of',\n",
       "           'off',\n",
       "           'often',\n",
       "           'on',\n",
       "           'once',\n",
       "           'one',\n",
       "           'only',\n",
       "           'onto',\n",
       "           'or',\n",
       "           'other',\n",
       "           'others',\n",
       "           'otherwise',\n",
       "           'our',\n",
       "           'ours',\n",
       "           'ourselves',\n",
       "           'out',\n",
       "           'over',\n",
       "           'own',\n",
       "           'part',\n",
       "           'per',\n",
       "           'perhaps',\n",
       "           'please',\n",
       "           'put',\n",
       "           'rather',\n",
       "           're',\n",
       "           'same',\n",
       "           'see',\n",
       "           'seem',\n",
       "           'seemed',\n",
       "           'seeming',\n",
       "           'seems',\n",
       "           'serious',\n",
       "           'several',\n",
       "           'she',\n",
       "           'should',\n",
       "           'show',\n",
       "           'side',\n",
       "           'since',\n",
       "           'sincere',\n",
       "           'six',\n",
       "           'sixty',\n",
       "           'so',\n",
       "           'some',\n",
       "           'somehow',\n",
       "           'someone',\n",
       "           'something',\n",
       "           'sometime',\n",
       "           'sometimes',\n",
       "           'somewhere',\n",
       "           'still',\n",
       "           'such',\n",
       "           'system',\n",
       "           'take',\n",
       "           'ten',\n",
       "           'than',\n",
       "           'that',\n",
       "           'the',\n",
       "           'their',\n",
       "           'them',\n",
       "           'themselves',\n",
       "           'then',\n",
       "           'thence',\n",
       "           'there',\n",
       "           'thereafter',\n",
       "           'thereby',\n",
       "           'therefore',\n",
       "           'therein',\n",
       "           'thereupon',\n",
       "           'these',\n",
       "           'they',\n",
       "           'thick',\n",
       "           'thin',\n",
       "           'third',\n",
       "           'this',\n",
       "           'those',\n",
       "           'though',\n",
       "           'three',\n",
       "           'through',\n",
       "           'throughout',\n",
       "           'thru',\n",
       "           'thus',\n",
       "           'to',\n",
       "           'together',\n",
       "           'too',\n",
       "           'top',\n",
       "           'toward',\n",
       "           'towards',\n",
       "           'twelve',\n",
       "           'twenty',\n",
       "           'two',\n",
       "           'un',\n",
       "           'under',\n",
       "           'until',\n",
       "           'up',\n",
       "           'upon',\n",
       "           'us',\n",
       "           'very',\n",
       "           'via',\n",
       "           'wa',\n",
       "           'was',\n",
       "           'we',\n",
       "           'well',\n",
       "           'were',\n",
       "           'what',\n",
       "           'whatever',\n",
       "           'when',\n",
       "           'whence',\n",
       "           'whenever',\n",
       "           'where',\n",
       "           'whereafter',\n",
       "           'whereas',\n",
       "           'whereby',\n",
       "           'wherein',\n",
       "           'whereupon',\n",
       "           'wherever',\n",
       "           'whether',\n",
       "           'which',\n",
       "           'while',\n",
       "           'whither',\n",
       "           'who',\n",
       "           'whoever',\n",
       "           'whole',\n",
       "           'whom',\n",
       "           'whose',\n",
       "           'why',\n",
       "           'will',\n",
       "           'with',\n",
       "           'within',\n",
       "           'without',\n",
       "           'would',\n",
       "           'yet',\n",
       "           'you',\n",
       "           'your',\n",
       "           'yours',\n",
       "           'yourself',\n",
       "           'yourselves'})"
      ]
     },
     "execution_count": 66,
     "metadata": {},
     "output_type": "execute_result"
    }
   ],
   "source": [
    "stop_words\n"
   ]
  },
  {
   "cell_type": "code",
   "execution_count": 67,
   "id": "343bfecc",
   "metadata": {},
   "outputs": [],
   "source": [
    "#cvec & lr"
   ]
  },
  {
   "cell_type": "code",
   "execution_count": 68,
   "id": "a07e3a64",
   "metadata": {},
   "outputs": [],
   "source": [
    "cvec = CountVectorizer(analyzer = \"word\",                        \n",
    "                         tokenizer = None, \n",
    "                         preprocessor = None,\n",
    "                         stop_words = \"english\", \n",
    "                         max_features = 10000)\n",
    "lr = LogisticRegression()\n",
    "\n",
    "pipe = Pipeline([\n",
    "    ('cvec', cvec),\n",
    "    ('lr', lr)\n",
    "])"
   ]
  },
  {
   "cell_type": "code",
   "execution_count": 69,
   "id": "130f6af8",
   "metadata": {},
   "outputs": [
    {
     "name": "stdout",
     "output_type": "stream",
     "text": [
      "train score: 0.9742441209406495\n",
      "test score: 0.8590604026845637\n"
     ]
    }
   ],
   "source": [
    "# baseline Logistic model\n",
    "\n",
    "pipe.fit(X_train, y_train)\n",
    "print('train score:', pipe.score(X_train, y_train))\n",
    "print('test score:', pipe.score(X_test, y_test))"
   ]
  },
  {
   "cell_type": "code",
   "execution_count": 70,
   "id": "b74370e3",
   "metadata": {},
   "outputs": [
    {
     "name": "stderr",
     "output_type": "stream",
     "text": [
      "/Users/aditisharma/opt/anaconda3/envs/t-flowenv/lib/python3.7/site-packages/sklearn/utils/deprecation.py:87: FutureWarning: Function get_feature_names is deprecated; get_feature_names is deprecated in 1.0 and will be removed in 1.2. Please use get_feature_names_out instead.\n",
      "  warnings.warn(msg, category=FutureWarning)\n"
     ]
    },
    {
     "data": {
      "text/html": [
       "<div>\n",
       "<style scoped>\n",
       "    .dataframe tbody tr th:only-of-type {\n",
       "        vertical-align: middle;\n",
       "    }\n",
       "\n",
       "    .dataframe tbody tr th {\n",
       "        vertical-align: top;\n",
       "    }\n",
       "\n",
       "    .dataframe thead th {\n",
       "        text-align: right;\n",
       "    }\n",
       "</style>\n",
       "<table border=\"1\" class=\"dataframe\">\n",
       "  <thead>\n",
       "    <tr style=\"text-align: right;\">\n",
       "      <th></th>\n",
       "      <th>coef_</th>\n",
       "      <th>abs_coef</th>\n",
       "    </tr>\n",
       "  </thead>\n",
       "  <tbody>\n",
       "    <tr>\n",
       "      <th>basketball</th>\n",
       "      <td>3.216930</td>\n",
       "      <td>3.216930</td>\n",
       "    </tr>\n",
       "    <tr>\n",
       "      <th>football</th>\n",
       "      <td>-2.643603</td>\n",
       "      <td>2.643603</td>\n",
       "    </tr>\n",
       "    <tr>\n",
       "      <th>nba</th>\n",
       "      <td>2.416401</td>\n",
       "      <td>2.416401</td>\n",
       "    </tr>\n",
       "    <tr>\n",
       "      <th>match</th>\n",
       "      <td>-1.366184</td>\n",
       "      <td>1.366184</td>\n",
       "    </tr>\n",
       "    <tr>\n",
       "      <th>fiba</th>\n",
       "      <td>1.269338</td>\n",
       "      <td>1.269338</td>\n",
       "    </tr>\n",
       "  </tbody>\n",
       "</table>\n",
       "</div>"
      ],
      "text/plain": [
       "               coef_  abs_coef\n",
       "basketball  3.216930  3.216930\n",
       "football   -2.643603  2.643603\n",
       "nba         2.416401  2.416401\n",
       "match      -1.366184  1.366184\n",
       "fiba        1.269338  1.269338"
      ]
     },
     "execution_count": 70,
     "metadata": {},
     "output_type": "execute_result"
    }
   ],
   "source": [
    "lr_feat00 = pd.DataFrame(data=lr.coef_.T, index=cvec.get_feature_names())\n",
    "lr_feat00.columns = ['coef_']\n",
    "lr_feat00['abs_coef'] = np.abs(lr_feat00['coef_'])\n",
    "lr_feat00.sort_values(by='abs_coef', ascending=False).head(5)"
   ]
  },
  {
   "cell_type": "code",
   "execution_count": 71,
   "id": "5d121345",
   "metadata": {},
   "outputs": [],
   "source": [
    "# Random forest model"
   ]
  },
  {
   "cell_type": "code",
   "execution_count": 72,
   "id": "9687f389",
   "metadata": {},
   "outputs": [
    {
     "name": "stdout",
     "output_type": "stream",
     "text": [
      "train score: 1.0\n",
      "test score: 0.8489932885906041\n"
     ]
    }
   ],
   "source": [
    "# using standard stop words = \"english\"\n",
    "\n",
    "cvec = CountVectorizer(analyzer = \"word\",                        \n",
    "                         tokenizer = None, \n",
    "                         preprocessor = None,\n",
    "                         stop_words = \"english\", \n",
    "                         max_features = 10000)\n",
    "rf = RandomForestClassifier(random_state = 42)\n",
    "\n",
    "pipe = Pipeline([\n",
    "    ('cvec', cvec),\n",
    "    ('rf', rf)\n",
    "])\n",
    "\n",
    "pipe.fit(X_train, y_train)\n",
    "print('train score:', pipe.score(X_train, y_train))\n",
    "print('test score:', pipe.score(X_test, y_test))"
   ]
  },
  {
   "cell_type": "code",
   "execution_count": 73,
   "id": "6267296f",
   "metadata": {},
   "outputs": [
    {
     "name": "stderr",
     "output_type": "stream",
     "text": [
      "/Users/aditisharma/opt/anaconda3/envs/t-flowenv/lib/python3.7/site-packages/sklearn/utils/deprecation.py:87: FutureWarning: Function get_feature_names is deprecated; get_feature_names is deprecated in 1.0 and will be removed in 1.2. Please use get_feature_names_out instead.\n",
      "  warnings.warn(msg, category=FutureWarning)\n"
     ]
    }
   ],
   "source": [
    "rf_feat = cvec.get_feature_names()\n",
    "rf_feat_imp = rf.feature_importances_\n",
    "\n",
    "df_rf_feat00 = pd.DataFrame(data=rf_feat_imp, index=rf_feat)"
   ]
  },
  {
   "cell_type": "code",
   "execution_count": 74,
   "id": "613a89ec",
   "metadata": {},
   "outputs": [
    {
     "data": {
      "text/html": [
       "<div>\n",
       "<style scoped>\n",
       "    .dataframe tbody tr th:only-of-type {\n",
       "        vertical-align: middle;\n",
       "    }\n",
       "\n",
       "    .dataframe tbody tr th {\n",
       "        vertical-align: top;\n",
       "    }\n",
       "\n",
       "    .dataframe thead th {\n",
       "        text-align: right;\n",
       "    }\n",
       "</style>\n",
       "<table border=\"1\" class=\"dataframe\">\n",
       "  <thead>\n",
       "    <tr style=\"text-align: right;\">\n",
       "      <th></th>\n",
       "      <th>0</th>\n",
       "    </tr>\n",
       "  </thead>\n",
       "  <tbody>\n",
       "    <tr>\n",
       "      <th>basketball</th>\n",
       "      <td>0.114770</td>\n",
       "    </tr>\n",
       "    <tr>\n",
       "      <th>nba</th>\n",
       "      <td>0.045199</td>\n",
       "    </tr>\n",
       "    <tr>\n",
       "      <th>football</th>\n",
       "      <td>0.024221</td>\n",
       "    </tr>\n",
       "    <tr>\n",
       "      <th>lebron</th>\n",
       "      <td>0.011575</td>\n",
       "    </tr>\n",
       "    <tr>\n",
       "      <th>dunk</th>\n",
       "      <td>0.009984</td>\n",
       "    </tr>\n",
       "  </tbody>\n",
       "</table>\n",
       "</div>"
      ],
      "text/plain": [
       "                   0\n",
       "basketball  0.114770\n",
       "nba         0.045199\n",
       "football    0.024221\n",
       "lebron      0.011575\n",
       "dunk        0.009984"
      ]
     },
     "execution_count": 74,
     "metadata": {},
     "output_type": "execute_result"
    }
   ],
   "source": [
    "df_rf_feat00.sort_values(by=0, ascending=False).head(5)\n"
   ]
  },
  {
   "cell_type": "code",
   "execution_count": 75,
   "id": "c078bc0e",
   "metadata": {},
   "outputs": [
    {
     "data": {
      "text/html": [
       "<div>\n",
       "<style scoped>\n",
       "    .dataframe tbody tr th:only-of-type {\n",
       "        vertical-align: middle;\n",
       "    }\n",
       "\n",
       "    .dataframe tbody tr th {\n",
       "        vertical-align: top;\n",
       "    }\n",
       "\n",
       "    .dataframe thead th {\n",
       "        text-align: right;\n",
       "    }\n",
       "</style>\n",
       "<table border=\"1\" class=\"dataframe\">\n",
       "  <thead>\n",
       "    <tr style=\"text-align: right;\">\n",
       "      <th></th>\n",
       "      <th>0</th>\n",
       "    </tr>\n",
       "  </thead>\n",
       "  <tbody>\n",
       "    <tr>\n",
       "      <th>lie</th>\n",
       "      <td>0.0</td>\n",
       "    </tr>\n",
       "    <tr>\n",
       "      <th>lgbtq</th>\n",
       "      <td>0.0</td>\n",
       "    </tr>\n",
       "    <tr>\n",
       "      <th>valid</th>\n",
       "      <td>0.0</td>\n",
       "    </tr>\n",
       "    <tr>\n",
       "      <th>levi</th>\n",
       "      <td>0.0</td>\n",
       "    </tr>\n",
       "    <tr>\n",
       "      <th>000</th>\n",
       "      <td>0.0</td>\n",
       "    </tr>\n",
       "  </tbody>\n",
       "</table>\n",
       "</div>"
      ],
      "text/plain": [
       "         0\n",
       "lie    0.0\n",
       "lgbtq  0.0\n",
       "valid  0.0\n",
       "levi   0.0\n",
       "000    0.0"
      ]
     },
     "execution_count": 75,
     "metadata": {},
     "output_type": "execute_result"
    }
   ],
   "source": [
    "df_rf_feat00.sort_values(by=0, ascending=False).tail(5)\n"
   ]
  },
  {
   "cell_type": "code",
   "execution_count": 76,
   "id": "9f46c34a",
   "metadata": {},
   "outputs": [
    {
     "name": "stdout",
     "output_type": "stream",
     "text": [
      "train score: 1.0\n",
      "test score: 0.8355704697986577\n"
     ]
    }
   ],
   "source": [
    "# using additional stop words\n",
    "\n",
    "cvec = CountVectorizer(analyzer = \"word\",                        \n",
    "                         tokenizer = None, \n",
    "                         preprocessor = None,\n",
    "                         stop_words = stop_words, \n",
    "                         max_features = 10000)\n",
    "rf = RandomForestClassifier(random_state = 42)\n",
    "\n",
    "pipe = Pipeline([\n",
    "    ('cvec', cvec),\n",
    "    ('rf', rf)\n",
    "])\n",
    "\n",
    "pipe.fit(X_train, y_train)\n",
    "print('train score:', pipe.score(X_train, y_train))\n",
    "print('test score:', pipe.score(X_test, y_test))"
   ]
  },
  {
   "cell_type": "code",
   "execution_count": 77,
   "id": "2a1eea92",
   "metadata": {},
   "outputs": [
    {
     "name": "stderr",
     "output_type": "stream",
     "text": [
      "/Users/aditisharma/opt/anaconda3/envs/t-flowenv/lib/python3.7/site-packages/sklearn/utils/deprecation.py:87: FutureWarning: Function get_feature_names is deprecated; get_feature_names is deprecated in 1.0 and will be removed in 1.2. Please use get_feature_names_out instead.\n",
      "  warnings.warn(msg, category=FutureWarning)\n"
     ]
    }
   ],
   "source": [
    "rf_feat = cvec.get_feature_names()\n",
    "rf_feat_imp = rf.feature_importances_\n",
    "\n",
    "df_rf_feat01 = pd.DataFrame(data=rf_feat_imp, index=rf_feat)\n",
    "\n",
    "df_rf_feat01.columns = ['feature_importances_']"
   ]
  },
  {
   "cell_type": "code",
   "execution_count": 78,
   "id": "8056ce87",
   "metadata": {},
   "outputs": [
    {
     "data": {
      "text/html": [
       "<div>\n",
       "<style scoped>\n",
       "    .dataframe tbody tr th:only-of-type {\n",
       "        vertical-align: middle;\n",
       "    }\n",
       "\n",
       "    .dataframe tbody tr th {\n",
       "        vertical-align: top;\n",
       "    }\n",
       "\n",
       "    .dataframe thead th {\n",
       "        text-align: right;\n",
       "    }\n",
       "</style>\n",
       "<table border=\"1\" class=\"dataframe\">\n",
       "  <thead>\n",
       "    <tr style=\"text-align: right;\">\n",
       "      <th></th>\n",
       "      <th>feature_importances_</th>\n",
       "    </tr>\n",
       "  </thead>\n",
       "  <tbody>\n",
       "    <tr>\n",
       "      <th>basketball</th>\n",
       "      <td>0.119932</td>\n",
       "    </tr>\n",
       "    <tr>\n",
       "      <th>nba</th>\n",
       "      <td>0.047812</td>\n",
       "    </tr>\n",
       "    <tr>\n",
       "      <th>football</th>\n",
       "      <td>0.022184</td>\n",
       "    </tr>\n",
       "    <tr>\n",
       "      <th>lebron</th>\n",
       "      <td>0.011193</td>\n",
       "    </tr>\n",
       "    <tr>\n",
       "      <th>dunk</th>\n",
       "      <td>0.009713</td>\n",
       "    </tr>\n",
       "  </tbody>\n",
       "</table>\n",
       "</div>"
      ],
      "text/plain": [
       "            feature_importances_\n",
       "basketball              0.119932\n",
       "nba                     0.047812\n",
       "football                0.022184\n",
       "lebron                  0.011193\n",
       "dunk                    0.009713"
      ]
     },
     "execution_count": 78,
     "metadata": {},
     "output_type": "execute_result"
    }
   ],
   "source": [
    "df_rf_feat01.sort_values(by='feature_importances_', ascending=False).head(5)\n"
   ]
  },
  {
   "cell_type": "code",
   "execution_count": 79,
   "id": "af97bb4f",
   "metadata": {},
   "outputs": [
    {
     "data": {
      "text/html": [
       "<div>\n",
       "<style scoped>\n",
       "    .dataframe tbody tr th:only-of-type {\n",
       "        vertical-align: middle;\n",
       "    }\n",
       "\n",
       "    .dataframe tbody tr th {\n",
       "        vertical-align: top;\n",
       "    }\n",
       "\n",
       "    .dataframe thead th {\n",
       "        text-align: right;\n",
       "    }\n",
       "</style>\n",
       "<table border=\"1\" class=\"dataframe\">\n",
       "  <thead>\n",
       "    <tr style=\"text-align: right;\">\n",
       "      <th></th>\n",
       "      <th>feature_importances_</th>\n",
       "    </tr>\n",
       "  </thead>\n",
       "  <tbody>\n",
       "    <tr>\n",
       "      <th>matchday</th>\n",
       "      <td>0.0</td>\n",
       "    </tr>\n",
       "    <tr>\n",
       "      <th>maradona</th>\n",
       "      <td>0.0</td>\n",
       "    </tr>\n",
       "    <tr>\n",
       "      <th>manages</th>\n",
       "      <td>0.0</td>\n",
       "    </tr>\n",
       "    <tr>\n",
       "      <th>management</th>\n",
       "      <td>0.0</td>\n",
       "    </tr>\n",
       "    <tr>\n",
       "      <th>000</th>\n",
       "      <td>0.0</td>\n",
       "    </tr>\n",
       "  </tbody>\n",
       "</table>\n",
       "</div>"
      ],
      "text/plain": [
       "            feature_importances_\n",
       "matchday                     0.0\n",
       "maradona                     0.0\n",
       "manages                      0.0\n",
       "management                   0.0\n",
       "000                          0.0"
      ]
     },
     "execution_count": 79,
     "metadata": {},
     "output_type": "execute_result"
    }
   ],
   "source": [
    "df_rf_feat01.sort_values(by='feature_importances_', ascending=False).tail(5)\n"
   ]
  },
  {
   "cell_type": "code",
   "execution_count": null,
   "id": "e1c51598",
   "metadata": {},
   "outputs": [],
   "source": []
  },
  {
   "cell_type": "code",
   "execution_count": 80,
   "id": "60f520c4",
   "metadata": {},
   "outputs": [
    {
     "name": "stdout",
     "output_type": "stream",
     "text": [
      "train score: 0.9809630459126539\n",
      "test score: 0.8523489932885906\n"
     ]
    }
   ],
   "source": [
    "# CountVectorizer & Logistic regression using additional stop words and 1 - 3 n-grams\n",
    "\n",
    "cvec = CountVectorizer(analyzer = \"word\", \n",
    "                       tokenizer = None, \n",
    "                       preprocessor = None,\n",
    "                       stop_words = stop_words, \n",
    "                       max_features = 10000, \n",
    "                       ngram_range = (1, 3)\n",
    "                      )\n",
    "\n",
    "lr = LogisticRegression()\n",
    "\n",
    "pipe = Pipeline([\n",
    "    ('cvec', cvec),\n",
    "    ('lr', lr)\n",
    "])\n",
    "\n",
    "pipe.fit(X_train, y_train)\n",
    "print('train score:', pipe.score(X_train, y_train))\n",
    "print('test score:', pipe.score(X_test, y_test))"
   ]
  },
  {
   "cell_type": "code",
   "execution_count": 81,
   "id": "78599b2d",
   "metadata": {},
   "outputs": [
    {
     "name": "stderr",
     "output_type": "stream",
     "text": [
      "/Users/aditisharma/opt/anaconda3/envs/t-flowenv/lib/python3.7/site-packages/sklearn/utils/deprecation.py:87: FutureWarning: Function get_feature_names is deprecated; get_feature_names is deprecated in 1.0 and will be removed in 1.2. Please use get_feature_names_out instead.\n",
      "  warnings.warn(msg, category=FutureWarning)\n"
     ]
    },
    {
     "data": {
      "text/html": [
       "<div>\n",
       "<style scoped>\n",
       "    .dataframe tbody tr th:only-of-type {\n",
       "        vertical-align: middle;\n",
       "    }\n",
       "\n",
       "    .dataframe tbody tr th {\n",
       "        vertical-align: top;\n",
       "    }\n",
       "\n",
       "    .dataframe thead th {\n",
       "        text-align: right;\n",
       "    }\n",
       "</style>\n",
       "<table border=\"1\" class=\"dataframe\">\n",
       "  <thead>\n",
       "    <tr style=\"text-align: right;\">\n",
       "      <th></th>\n",
       "      <th>coef_</th>\n",
       "      <th>abs_coef</th>\n",
       "    </tr>\n",
       "  </thead>\n",
       "  <tbody>\n",
       "    <tr>\n",
       "      <th>basketball</th>\n",
       "      <td>2.947316</td>\n",
       "      <td>2.947316</td>\n",
       "    </tr>\n",
       "    <tr>\n",
       "      <th>football</th>\n",
       "      <td>-2.436103</td>\n",
       "      <td>2.436103</td>\n",
       "    </tr>\n",
       "    <tr>\n",
       "      <th>nba</th>\n",
       "      <td>2.049868</td>\n",
       "      <td>2.049868</td>\n",
       "    </tr>\n",
       "    <tr>\n",
       "      <th>match</th>\n",
       "      <td>-1.234963</td>\n",
       "      <td>1.234963</td>\n",
       "    </tr>\n",
       "    <tr>\n",
       "      <th>goal</th>\n",
       "      <td>-1.063642</td>\n",
       "      <td>1.063642</td>\n",
       "    </tr>\n",
       "  </tbody>\n",
       "</table>\n",
       "</div>"
      ],
      "text/plain": [
       "               coef_  abs_coef\n",
       "basketball  2.947316  2.947316\n",
       "football   -2.436103  2.436103\n",
       "nba         2.049868  2.049868\n",
       "match      -1.234963  1.234963\n",
       "goal       -1.063642  1.063642"
      ]
     },
     "execution_count": 81,
     "metadata": {},
     "output_type": "execute_result"
    }
   ],
   "source": [
    "lr_feat03 = pd.DataFrame(data=lr.coef_.T, index=cvec.get_feature_names())\n",
    "lr_feat03.columns = ['coef_']\n",
    "lr_feat03['abs_coef'] = np.abs(lr_feat03['coef_'])\n",
    "lr_feat03.sort_values(by='abs_coef', ascending=False).head(5)"
   ]
  },
  {
   "cell_type": "code",
   "execution_count": 82,
   "id": "f5819c26",
   "metadata": {},
   "outputs": [
    {
     "data": {
      "text/html": [
       "<div>\n",
       "<style scoped>\n",
       "    .dataframe tbody tr th:only-of-type {\n",
       "        vertical-align: middle;\n",
       "    }\n",
       "\n",
       "    .dataframe tbody tr th {\n",
       "        vertical-align: top;\n",
       "    }\n",
       "\n",
       "    .dataframe thead th {\n",
       "        text-align: right;\n",
       "    }\n",
       "</style>\n",
       "<table border=\"1\" class=\"dataframe\">\n",
       "  <thead>\n",
       "    <tr style=\"text-align: right;\">\n",
       "      <th></th>\n",
       "      <th>coef_</th>\n",
       "      <th>abs_coef</th>\n",
       "    </tr>\n",
       "  </thead>\n",
       "  <tbody>\n",
       "    <tr>\n",
       "      <th>international football club</th>\n",
       "      <td>-0.000647</td>\n",
       "      <td>0.000647</td>\n",
       "    </tr>\n",
       "    <tr>\n",
       "      <th>comparing international</th>\n",
       "      <td>-0.000647</td>\n",
       "      <td>0.000647</td>\n",
       "    </tr>\n",
       "    <tr>\n",
       "      <th>comparing</th>\n",
       "      <td>-0.000647</td>\n",
       "      <td>0.000647</td>\n",
       "    </tr>\n",
       "    <tr>\n",
       "      <th>club football</th>\n",
       "      <td>-0.000647</td>\n",
       "      <td>0.000647</td>\n",
       "    </tr>\n",
       "    <tr>\n",
       "      <th>comparing international football</th>\n",
       "      <td>-0.000647</td>\n",
       "      <td>0.000647</td>\n",
       "    </tr>\n",
       "  </tbody>\n",
       "</table>\n",
       "</div>"
      ],
      "text/plain": [
       "                                     coef_  abs_coef\n",
       "international football club      -0.000647  0.000647\n",
       "comparing international          -0.000647  0.000647\n",
       "comparing                        -0.000647  0.000647\n",
       "club football                    -0.000647  0.000647\n",
       "comparing international football -0.000647  0.000647"
      ]
     },
     "execution_count": 82,
     "metadata": {},
     "output_type": "execute_result"
    }
   ],
   "source": [
    "lr_feat03.sort_values(by='abs_coef', ascending=False).tail(5)\n"
   ]
  },
  {
   "cell_type": "code",
   "execution_count": 83,
   "id": "3cb5ad29",
   "metadata": {},
   "outputs": [
    {
     "name": "stdout",
     "output_type": "stream",
     "text": [
      "train score: 0.8275475923852184\n",
      "test score: 0.8120805369127517\n"
     ]
    }
   ],
   "source": [
    "# tf-idf & Logistic regression using additional stop words and 1 - 3 n-grams\n",
    "\n",
    "tf = TfidfVectorizer(analyzer = \"word\", \n",
    "                     stop_words = stop_words, \n",
    "                     max_features = 10000, \n",
    "                     ngram_range = (1, 3))\n",
    "\n",
    "lr = LogisticRegression()\n",
    "\n",
    "pipe = Pipeline([\n",
    "    ('tf', tf),\n",
    "    ('lr', lr)\n",
    "])\n",
    "\n",
    "pipe.fit(X_train, y_train)\n",
    "print('train score:', pipe.score(X_train, y_train))\n",
    "print('test score:', pipe.score(X_test, y_test))"
   ]
  },
  {
   "cell_type": "code",
   "execution_count": 84,
   "id": "972f5bb0",
   "metadata": {},
   "outputs": [
    {
     "name": "stderr",
     "output_type": "stream",
     "text": [
      "/Users/aditisharma/opt/anaconda3/envs/t-flowenv/lib/python3.7/site-packages/sklearn/utils/deprecation.py:87: FutureWarning: Function get_feature_names is deprecated; get_feature_names is deprecated in 1.0 and will be removed in 1.2. Please use get_feature_names_out instead.\n",
      "  warnings.warn(msg, category=FutureWarning)\n"
     ]
    },
    {
     "data": {
      "text/html": [
       "<div>\n",
       "<style scoped>\n",
       "    .dataframe tbody tr th:only-of-type {\n",
       "        vertical-align: middle;\n",
       "    }\n",
       "\n",
       "    .dataframe tbody tr th {\n",
       "        vertical-align: top;\n",
       "    }\n",
       "\n",
       "    .dataframe thead th {\n",
       "        text-align: right;\n",
       "    }\n",
       "</style>\n",
       "<table border=\"1\" class=\"dataframe\">\n",
       "  <thead>\n",
       "    <tr style=\"text-align: right;\">\n",
       "      <th></th>\n",
       "      <th>coef_</th>\n",
       "      <th>abs_coef</th>\n",
       "    </tr>\n",
       "  </thead>\n",
       "  <tbody>\n",
       "    <tr>\n",
       "      <th>basketball</th>\n",
       "      <td>4.219468</td>\n",
       "      <td>4.219468</td>\n",
       "    </tr>\n",
       "    <tr>\n",
       "      <th>football</th>\n",
       "      <td>-2.462375</td>\n",
       "      <td>2.462375</td>\n",
       "    </tr>\n",
       "    <tr>\n",
       "      <th>nba</th>\n",
       "      <td>2.460316</td>\n",
       "      <td>2.460316</td>\n",
       "    </tr>\n",
       "    <tr>\n",
       "      <th>match</th>\n",
       "      <td>-1.308870</td>\n",
       "      <td>1.308870</td>\n",
       "    </tr>\n",
       "    <tr>\n",
       "      <th>dunk</th>\n",
       "      <td>1.033974</td>\n",
       "      <td>1.033974</td>\n",
       "    </tr>\n",
       "  </tbody>\n",
       "</table>\n",
       "</div>"
      ],
      "text/plain": [
       "               coef_  abs_coef\n",
       "basketball  4.219468  4.219468\n",
       "football   -2.462375  2.462375\n",
       "nba         2.460316  2.460316\n",
       "match      -1.308870  1.308870\n",
       "dunk        1.033974  1.033974"
      ]
     },
     "execution_count": 84,
     "metadata": {},
     "output_type": "execute_result"
    }
   ],
   "source": [
    "lr_tf_feat01 = pd.DataFrame(data=lr.coef_.T, index=cvec.get_feature_names())\n",
    "lr_tf_feat01.columns = ['coef_']\n",
    "lr_tf_feat01['abs_coef'] = np.abs(lr_tf_feat01['coef_'])\n",
    "lr_tf_feat01.sort_values(by='abs_coef', ascending=False).head(5)"
   ]
  },
  {
   "cell_type": "code",
   "execution_count": 85,
   "id": "3c4a2226",
   "metadata": {},
   "outputs": [
    {
     "data": {
      "text/html": [
       "<div>\n",
       "<style scoped>\n",
       "    .dataframe tbody tr th:only-of-type {\n",
       "        vertical-align: middle;\n",
       "    }\n",
       "\n",
       "    .dataframe tbody tr th {\n",
       "        vertical-align: top;\n",
       "    }\n",
       "\n",
       "    .dataframe thead th {\n",
       "        text-align: right;\n",
       "    }\n",
       "</style>\n",
       "<table border=\"1\" class=\"dataframe\">\n",
       "  <thead>\n",
       "    <tr style=\"text-align: right;\">\n",
       "      <th></th>\n",
       "      <th>coef_</th>\n",
       "      <th>abs_coef</th>\n",
       "    </tr>\n",
       "  </thead>\n",
       "  <tbody>\n",
       "    <tr>\n",
       "      <th>college</th>\n",
       "      <td>-0.002553</td>\n",
       "      <td>0.002553</td>\n",
       "    </tr>\n",
       "    <tr>\n",
       "      <th>rank</th>\n",
       "      <td>0.002486</td>\n",
       "      <td>0.002486</td>\n",
       "    </tr>\n",
       "    <tr>\n",
       "      <th>site</th>\n",
       "      <td>0.001698</td>\n",
       "      <td>0.001698</td>\n",
       "    </tr>\n",
       "    <tr>\n",
       "      <th>rating</th>\n",
       "      <td>0.001545</td>\n",
       "      <td>0.001545</td>\n",
       "    </tr>\n",
       "    <tr>\n",
       "      <th>day</th>\n",
       "      <td>-0.000337</td>\n",
       "      <td>0.000337</td>\n",
       "    </tr>\n",
       "  </tbody>\n",
       "</table>\n",
       "</div>"
      ],
      "text/plain": [
       "            coef_  abs_coef\n",
       "college -0.002553  0.002553\n",
       "rank     0.002486  0.002486\n",
       "site     0.001698  0.001698\n",
       "rating   0.001545  0.001545\n",
       "day     -0.000337  0.000337"
      ]
     },
     "execution_count": 85,
     "metadata": {},
     "output_type": "execute_result"
    }
   ],
   "source": [
    "lr_tf_feat01.sort_values(by='abs_coef', ascending=False).tail(5)\n"
   ]
  },
  {
   "cell_type": "code",
   "execution_count": 86,
   "id": "7f7c8129",
   "metadata": {},
   "outputs": [
    {
     "name": "stdout",
     "output_type": "stream",
     "text": [
      "train score: 1.0\n",
      "test score: 0.802013422818792\n"
     ]
    }
   ],
   "source": [
    "# CountVectorizer & Random forest using additional stop words and 1 - 3 n-grams\n",
    "\n",
    "cvec = CountVectorizer(analyzer = \"word\", \n",
    "                       tokenizer = None, \n",
    "                       preprocessor = None,\n",
    "                       stop_words = stop_words, \n",
    "                       max_features = 10000, \n",
    "                       ngram_range = (1, 3)\n",
    "                      )\n",
    "rf = RandomForestClassifier(random_state = 42)\n",
    "\n",
    "pipe = Pipeline([\n",
    "    ('cvec', cvec),\n",
    "    ('rf', rf)\n",
    "])\n",
    "\n",
    "pipe.fit(X_train, y_train)\n",
    "print('train score:', pipe.score(X_train, y_train))\n",
    "print('test score:', pipe.score(X_test, y_test))"
   ]
  },
  {
   "cell_type": "code",
   "execution_count": 87,
   "id": "3bb45ffd",
   "metadata": {},
   "outputs": [
    {
     "name": "stdout",
     "output_type": "stream",
     "text": [
      "train score: 1.0\n",
      "test score: 0.8154362416107382\n"
     ]
    }
   ],
   "source": [
    "tf = TfidfVectorizer(analyzer = \"word\", \n",
    "                     stop_words = stop_words, \n",
    "                     max_features = 10000, \n",
    "                     ngram_range = (1, 3))\n",
    "\n",
    "rf = RandomForestClassifier(random_state = 42)\n",
    "\n",
    "pipe = Pipeline([\n",
    "    ('tf', tf),\n",
    "    ('rf', rf)\n",
    "])\n",
    "\n",
    "pipe.fit(X_train, y_train)\n",
    "print('train score:', pipe.score(X_train, y_train))\n",
    "print('test score:', pipe.score(X_test, y_test))"
   ]
  },
  {
   "cell_type": "code",
   "execution_count": 88,
   "id": "de72f547",
   "metadata": {},
   "outputs": [
    {
     "name": "stderr",
     "output_type": "stream",
     "text": [
      "/Users/aditisharma/opt/anaconda3/envs/t-flowenv/lib/python3.7/site-packages/sklearn/utils/deprecation.py:87: FutureWarning: Function get_feature_names is deprecated; get_feature_names is deprecated in 1.0 and will be removed in 1.2. Please use get_feature_names_out instead.\n",
      "  warnings.warn(msg, category=FutureWarning)\n"
     ]
    }
   ],
   "source": [
    "rf_feat = cvec.get_feature_names()\n",
    "rf_feat_imp = rf.feature_importances_\n",
    "\n",
    "df_rf_feat02 = pd.DataFrame(data=rf_feat_imp, index=rf_feat)\n",
    "\n",
    "df_rf_feat02.columns = ['feature_importances_']"
   ]
  },
  {
   "cell_type": "code",
   "execution_count": 89,
   "id": "97ea49f9",
   "metadata": {},
   "outputs": [
    {
     "data": {
      "text/html": [
       "<div>\n",
       "<style scoped>\n",
       "    .dataframe tbody tr th:only-of-type {\n",
       "        vertical-align: middle;\n",
       "    }\n",
       "\n",
       "    .dataframe tbody tr th {\n",
       "        vertical-align: top;\n",
       "    }\n",
       "\n",
       "    .dataframe thead th {\n",
       "        text-align: right;\n",
       "    }\n",
       "</style>\n",
       "<table border=\"1\" class=\"dataframe\">\n",
       "  <thead>\n",
       "    <tr style=\"text-align: right;\">\n",
       "      <th></th>\n",
       "      <th>feature_importances_</th>\n",
       "    </tr>\n",
       "  </thead>\n",
       "  <tbody>\n",
       "    <tr>\n",
       "      <th>basketball</th>\n",
       "      <td>0.075570</td>\n",
       "    </tr>\n",
       "    <tr>\n",
       "      <th>nba</th>\n",
       "      <td>0.025730</td>\n",
       "    </tr>\n",
       "    <tr>\n",
       "      <th>football</th>\n",
       "      <td>0.012092</td>\n",
       "    </tr>\n",
       "    <tr>\n",
       "      <th>lebron</th>\n",
       "      <td>0.009197</td>\n",
       "    </tr>\n",
       "    <tr>\n",
       "      <th>ball</th>\n",
       "      <td>0.008758</td>\n",
       "    </tr>\n",
       "  </tbody>\n",
       "</table>\n",
       "</div>"
      ],
      "text/plain": [
       "            feature_importances_\n",
       "basketball              0.075570\n",
       "nba                     0.025730\n",
       "football                0.012092\n",
       "lebron                  0.009197\n",
       "ball                    0.008758"
      ]
     },
     "execution_count": 89,
     "metadata": {},
     "output_type": "execute_result"
    }
   ],
   "source": [
    "df_rf_feat02.sort_values(by='feature_importances_', ascending=False).head(5)\n"
   ]
  },
  {
   "cell_type": "code",
   "execution_count": 90,
   "id": "3ee4e233",
   "metadata": {},
   "outputs": [
    {
     "data": {
      "text/html": [
       "<div>\n",
       "<style scoped>\n",
       "    .dataframe tbody tr th:only-of-type {\n",
       "        vertical-align: middle;\n",
       "    }\n",
       "\n",
       "    .dataframe tbody tr th {\n",
       "        vertical-align: top;\n",
       "    }\n",
       "\n",
       "    .dataframe thead th {\n",
       "        text-align: right;\n",
       "    }\n",
       "</style>\n",
       "<table border=\"1\" class=\"dataframe\">\n",
       "  <thead>\n",
       "    <tr style=\"text-align: right;\">\n",
       "      <th></th>\n",
       "      <th>feature_importances_</th>\n",
       "    </tr>\n",
       "  </thead>\n",
       "  <tbody>\n",
       "    <tr>\n",
       "      <th>football goal</th>\n",
       "      <td>0.0</td>\n",
       "    </tr>\n",
       "    <tr>\n",
       "      <th>football giant save</th>\n",
       "      <td>0.0</td>\n",
       "    </tr>\n",
       "    <tr>\n",
       "      <th>pranking</th>\n",
       "      <td>0.0</td>\n",
       "    </tr>\n",
       "    <tr>\n",
       "      <th>pranking die</th>\n",
       "      <td>0.0</td>\n",
       "    </tr>\n",
       "    <tr>\n",
       "      <th>arabia wealth fund</th>\n",
       "      <td>0.0</td>\n",
       "    </tr>\n",
       "  </tbody>\n",
       "</table>\n",
       "</div>"
      ],
      "text/plain": [
       "                     feature_importances_\n",
       "football goal                         0.0\n",
       "football giant save                   0.0\n",
       "pranking                              0.0\n",
       "pranking die                          0.0\n",
       "arabia wealth fund                    0.0"
      ]
     },
     "execution_count": 90,
     "metadata": {},
     "output_type": "execute_result"
    }
   ],
   "source": [
    "df_rf_feat02.sort_values(by='feature_importances_', ascending=False).tail(5)\n"
   ]
  },
  {
   "cell_type": "code",
   "execution_count": null,
   "id": "96335bb3",
   "metadata": {},
   "outputs": [],
   "source": []
  },
  {
   "cell_type": "code",
   "execution_count": 91,
   "id": "359fa339",
   "metadata": {},
   "outputs": [],
   "source": [
    "# tfidf using \"english\" stop words, 1-grams\n",
    "\n",
    "tf = TfidfVectorizer(analyzer = \"word\", \n",
    "                     stop_words = \"english\", \n",
    "                     max_features = 10000, \n",
    "                     ngram_range = (1, 1))\n",
    "\n",
    "lr = LogisticRegression()\n",
    "\n",
    "pipe = Pipeline([\n",
    "    ('tf', tf),\n",
    "    ('lr', lr)\n",
    "])"
   ]
  },
  {
   "cell_type": "code",
   "execution_count": 92,
   "id": "eff86150",
   "metadata": {},
   "outputs": [
    {
     "name": "stdout",
     "output_type": "stream",
     "text": [
      "train score: 0.8667413213885778\n",
      "test score: 0.8389261744966443\n"
     ]
    }
   ],
   "source": [
    "pipe.fit(X_train, y_train)\n",
    "print('train score:', pipe.score(X_train, y_train))\n",
    "print('test score:', pipe.score(X_test, y_test))"
   ]
  },
  {
   "cell_type": "code",
   "execution_count": 93,
   "id": "51fa7fc3",
   "metadata": {},
   "outputs": [
    {
     "data": {
      "text/html": [
       "<div>\n",
       "<style scoped>\n",
       "    .dataframe tbody tr th:only-of-type {\n",
       "        vertical-align: middle;\n",
       "    }\n",
       "\n",
       "    .dataframe tbody tr th {\n",
       "        vertical-align: top;\n",
       "    }\n",
       "\n",
       "    .dataframe thead th {\n",
       "        text-align: right;\n",
       "    }\n",
       "</style>\n",
       "<table border=\"1\" class=\"dataframe\">\n",
       "  <thead>\n",
       "    <tr style=\"text-align: right;\">\n",
       "      <th></th>\n",
       "      <th>coef_</th>\n",
       "      <th>abs_coef</th>\n",
       "    </tr>\n",
       "  </thead>\n",
       "  <tbody>\n",
       "    <tr>\n",
       "      <th>basketball</th>\n",
       "      <td>4.219468</td>\n",
       "      <td>4.219468</td>\n",
       "    </tr>\n",
       "    <tr>\n",
       "      <th>nba</th>\n",
       "      <td>2.460316</td>\n",
       "      <td>2.460316</td>\n",
       "    </tr>\n",
       "    <tr>\n",
       "      <th>dunk</th>\n",
       "      <td>1.033974</td>\n",
       "      <td>1.033974</td>\n",
       "    </tr>\n",
       "    <tr>\n",
       "      <th>lebron</th>\n",
       "      <td>1.033463</td>\n",
       "      <td>1.033463</td>\n",
       "    </tr>\n",
       "    <tr>\n",
       "      <th>question</th>\n",
       "      <td>0.958426</td>\n",
       "      <td>0.958426</td>\n",
       "    </tr>\n",
       "  </tbody>\n",
       "</table>\n",
       "</div>"
      ],
      "text/plain": [
       "               coef_  abs_coef\n",
       "basketball  4.219468  4.219468\n",
       "nba         2.460316  2.460316\n",
       "dunk        1.033974  1.033974\n",
       "lebron      1.033463  1.033463\n",
       "question    0.958426  0.958426"
      ]
     },
     "execution_count": 93,
     "metadata": {},
     "output_type": "execute_result"
    }
   ],
   "source": [
    "lr_tf_feat01.sort_values(by='coef_', ascending=False).head(5)"
   ]
  },
  {
   "cell_type": "code",
   "execution_count": 94,
   "id": "bdf74f3a",
   "metadata": {},
   "outputs": [
    {
     "data": {
      "text/html": [
       "<div>\n",
       "<style scoped>\n",
       "    .dataframe tbody tr th:only-of-type {\n",
       "        vertical-align: middle;\n",
       "    }\n",
       "\n",
       "    .dataframe tbody tr th {\n",
       "        vertical-align: top;\n",
       "    }\n",
       "\n",
       "    .dataframe thead th {\n",
       "        text-align: right;\n",
       "    }\n",
       "</style>\n",
       "<table border=\"1\" class=\"dataframe\">\n",
       "  <thead>\n",
       "    <tr style=\"text-align: right;\">\n",
       "      <th></th>\n",
       "      <th>coef_</th>\n",
       "      <th>abs_coef</th>\n",
       "    </tr>\n",
       "  </thead>\n",
       "  <tbody>\n",
       "    <tr>\n",
       "      <th>ronaldo</th>\n",
       "      <td>-0.921361</td>\n",
       "      <td>0.921361</td>\n",
       "    </tr>\n",
       "    <tr>\n",
       "      <th>goal</th>\n",
       "      <td>-0.999370</td>\n",
       "      <td>0.999370</td>\n",
       "    </tr>\n",
       "    <tr>\n",
       "      <th>world</th>\n",
       "      <td>-1.022104</td>\n",
       "      <td>1.022104</td>\n",
       "    </tr>\n",
       "    <tr>\n",
       "      <th>match</th>\n",
       "      <td>-1.308870</td>\n",
       "      <td>1.308870</td>\n",
       "    </tr>\n",
       "    <tr>\n",
       "      <th>football</th>\n",
       "      <td>-2.462375</td>\n",
       "      <td>2.462375</td>\n",
       "    </tr>\n",
       "  </tbody>\n",
       "</table>\n",
       "</div>"
      ],
      "text/plain": [
       "             coef_  abs_coef\n",
       "ronaldo  -0.921361  0.921361\n",
       "goal     -0.999370  0.999370\n",
       "world    -1.022104  1.022104\n",
       "match    -1.308870  1.308870\n",
       "football -2.462375  2.462375"
      ]
     },
     "execution_count": 94,
     "metadata": {},
     "output_type": "execute_result"
    }
   ],
   "source": [
    "lr_tf_feat01.sort_values(by='coef_', ascending=False).tail(5)\n"
   ]
  },
  {
   "cell_type": "code",
   "execution_count": null,
   "id": "2a6a3965",
   "metadata": {},
   "outputs": [],
   "source": []
  },
  {
   "cell_type": "code",
   "execution_count": 95,
   "id": "6d5298b6",
   "metadata": {},
   "outputs": [],
   "source": [
    "# set up pipeline\n",
    "\n",
    "# initialize\n",
    "cvec = CountVectorizer(stop_words = stop_words)\n",
    "lr = LogisticRegression()\n",
    "\n",
    "pipe = Pipeline([\n",
    "    ('cvec', cvec),\n",
    "    ('lr', lr)\n",
    "])\n"
   ]
  },
  {
   "cell_type": "code",
   "execution_count": 96,
   "id": "29b2a34c",
   "metadata": {},
   "outputs": [
    {
     "name": "stdout",
     "output_type": "stream",
     "text": [
      "train score: 0.9720044792833147\n",
      "test score: 0.8557046979865772\n"
     ]
    }
   ],
   "source": [
    "# baseline Logistic model\n",
    "\n",
    "pipe.fit(X_train, y_train)\n",
    "print('train score:', pipe.score(X_train, y_train))\n",
    "print('test score:', pipe.score(X_test, y_test))"
   ]
  },
  {
   "cell_type": "code",
   "execution_count": null,
   "id": "87c0f034",
   "metadata": {},
   "outputs": [],
   "source": []
  },
  {
   "cell_type": "code",
   "execution_count": 97,
   "id": "5be3da66",
   "metadata": {
    "scrolled": false
   },
   "outputs": [
    {
     "name": "stdout",
     "output_type": "stream",
     "text": [
      "Fitting 3 folds for each of 60 candidates, totalling 180 fits\n",
      "CPU times: user 1.89 s, sys: 11.1 ms, total: 1.9 s\n",
      "Wall time: 1.91 s\n"
     ]
    },
    {
     "name": "stderr",
     "output_type": "stream",
     "text": [
      "/Users/aditisharma/opt/anaconda3/envs/t-flowenv/lib/python3.7/site-packages/sklearn/model_selection/_validation.py:372: FitFailedWarning: \n",
      "90 fits failed out of a total of 180.\n",
      "The score on these train-test partitions for these parameters will be set to nan.\n",
      "If these failures are not expected, you can try to debug them by setting error_score='raise'.\n",
      "\n",
      "Below are more details about the failures:\n",
      "--------------------------------------------------------------------------------\n",
      "90 fits failed with the following error:\n",
      "Traceback (most recent call last):\n",
      "  File \"/Users/aditisharma/opt/anaconda3/envs/t-flowenv/lib/python3.7/site-packages/sklearn/model_selection/_validation.py\", line 680, in _fit_and_score\n",
      "    estimator.fit(X_train, y_train, **fit_params)\n",
      "  File \"/Users/aditisharma/opt/anaconda3/envs/t-flowenv/lib/python3.7/site-packages/sklearn/pipeline.py\", line 394, in fit\n",
      "    self._final_estimator.fit(Xt, y, **fit_params_last_step)\n",
      "  File \"/Users/aditisharma/opt/anaconda3/envs/t-flowenv/lib/python3.7/site-packages/sklearn/linear_model/_logistic.py\", line 1461, in fit\n",
      "    solver = _check_solver(self.solver, self.penalty, self.dual)\n",
      "  File \"/Users/aditisharma/opt/anaconda3/envs/t-flowenv/lib/python3.7/site-packages/sklearn/linear_model/_logistic.py\", line 449, in _check_solver\n",
      "    % (solver, penalty)\n",
      "ValueError: Solver lbfgs supports only 'l2' or 'none' penalties, got l1 penalty.\n",
      "\n",
      "  warnings.warn(some_fits_failed_message, FitFailedWarning)\n",
      "/Users/aditisharma/opt/anaconda3/envs/t-flowenv/lib/python3.7/site-packages/sklearn/model_selection/_search.py:972: UserWarning: One or more of the test scores are non-finite: [       nan 0.70660746        nan 0.70660746        nan 0.70660746\n",
      "        nan 0.70660746        nan 0.70660746        nan 0.70660746\n",
      "        nan 0.70660746        nan 0.70660746        nan 0.78836463\n",
      "        nan 0.83202269        nan 0.70660746        nan 0.70660746\n",
      "        nan 0.70660746        nan 0.70660746        nan 0.70660746\n",
      "        nan 0.70660746        nan 0.70660746        nan 0.70660746\n",
      "        nan 0.78836463        nan 0.83202269        nan 0.70660746\n",
      "        nan 0.70660746        nan 0.70660746        nan 0.70660746\n",
      "        nan 0.70660746        nan 0.70660746        nan 0.70660746\n",
      "        nan 0.70660746        nan 0.78836463        nan 0.83202269]\n",
      "  category=UserWarning,\n"
     ]
    },
    {
     "data": {
      "text/plain": [
       "GridSearchCV(cv=3,\n",
       "             estimator=Pipeline(steps=[('cvec',\n",
       "                                        CountVectorizer(stop_words=frozenset({'a',\n",
       "                                                                              'about',\n",
       "                                                                              'above',\n",
       "                                                                              'across',\n",
       "                                                                              'after',\n",
       "                                                                              'afterwards',\n",
       "                                                                              'again',\n",
       "                                                                              'against',\n",
       "                                                                              'all',\n",
       "                                                                              'almost',\n",
       "                                                                              'alone',\n",
       "                                                                              'along',\n",
       "                                                                              'already',\n",
       "                                                                              'also',\n",
       "                                                                              'although',\n",
       "                                                                              'always',\n",
       "                                                                              'am',\n",
       "                                                                              'among',\n",
       "                                                                              'amongst',\n",
       "                                                                              'amoungst',\n",
       "                                                                              'amount',\n",
       "                                                                              'an',\n",
       "                                                                              'and',\n",
       "                                                                              'another',\n",
       "                                                                              'any',\n",
       "                                                                              'anyhow',\n",
       "                                                                              'anyone',\n",
       "                                                                              'anything',\n",
       "                                                                              'anyway',\n",
       "                                                                              'anywhere', ...}))),\n",
       "                                       ('lr', LogisticRegression())]),\n",
       "             param_grid={'cvec__max_features': [5000, 10000, 20000],\n",
       "                         'lr__C': array([1.00000000e-10, 1.29154967e-09, 1.66810054e-08, 2.15443469e-07,\n",
       "       2.78255940e-06, 3.59381366e-05, 4.64158883e-04, 5.99484250e-03,\n",
       "       7.74263683e-02, 1.00000000e+00]),\n",
       "                         'lr__penalty': ['l1', 'l2']},\n",
       "             verbose=1)"
      ]
     },
     "execution_count": 97,
     "metadata": {},
     "output_type": "execute_result"
    }
   ],
   "source": [
    "%%time\n",
    "\n",
    "# gridsearchCV tests cross-validation for the parameters\n",
    "# pipe\n",
    "\n",
    "params = {\n",
    "#     'cvec__stop_words': [stop_words], \n",
    "    'cvec__max_features': [5000, 10000, 20000], \n",
    "#     'cvec__ngram_range': [(1, 1), (1, 2)], \n",
    "    'lr__penalty': ['l1', 'l2'], \n",
    "    'lr__C': np.logspace(-10, 0, 10)\n",
    "}\n",
    "gs = GridSearchCV(pipe, param_grid=params, cv=3, verbose=1)\n",
    "gs.fit(X_train, y_train)"
   ]
  },
  {
   "cell_type": "code",
   "execution_count": 98,
   "id": "ac1401c1",
   "metadata": {},
   "outputs": [
    {
     "name": "stdout",
     "output_type": "stream",
     "text": [
      "gs.best_score_ 0.8320226877273856\n",
      "gs.best_params_ {'cvec__max_features': 5000, 'lr__C': 1.0, 'lr__penalty': 'l2'}\n",
      "gs.score(X_test, y_test) 0.8557046979865772\n"
     ]
    }
   ],
   "source": [
    "print('gs.best_score_', gs.best_score_)\n",
    "print('gs.best_params_', gs.best_params_)\n",
    "print('gs.score(X_test, y_test)', gs.score(X_test, y_test))"
   ]
  },
  {
   "cell_type": "code",
   "execution_count": null,
   "id": "340c1881",
   "metadata": {},
   "outputs": [],
   "source": []
  },
  {
   "cell_type": "code",
   "execution_count": 99,
   "id": "c076baf0",
   "metadata": {},
   "outputs": [],
   "source": [
    "# set up pipeline\n",
    "\n",
    "# initialize\n",
    "cvec = CountVectorizer(stop_words = stop_words)\n",
    "mnb = MultinomialNB()\n",
    "\n",
    "pipe = Pipeline([\n",
    "    ('cvec', cvec),\n",
    "    ('mnb', mnb)\n",
    "])"
   ]
  },
  {
   "cell_type": "code",
   "execution_count": 100,
   "id": "99d33021",
   "metadata": {},
   "outputs": [
    {
     "name": "stdout",
     "output_type": "stream",
     "text": [
      "train score: 0.9798432250839866\n",
      "test score: 0.8758389261744967\n"
     ]
    }
   ],
   "source": [
    "# baseline MultinomialNB model\n",
    "\n",
    "pipe.fit(X_train, y_train)\n",
    "print('train score:', pipe.score(X_train, y_train))\n",
    "print('test score:', pipe.score(X_test, y_test))"
   ]
  },
  {
   "cell_type": "code",
   "execution_count": 101,
   "id": "58fe6792",
   "metadata": {},
   "outputs": [
    {
     "name": "stderr",
     "output_type": "stream",
     "text": [
      "/Users/aditisharma/opt/anaconda3/envs/t-flowenv/lib/python3.7/site-packages/sklearn/naive_bayes.py:557: UserWarning: alpha too small will result in numeric errors, setting alpha = 1.0e-10\n",
      "  % _ALPHA_MIN\n",
      "/Users/aditisharma/opt/anaconda3/envs/t-flowenv/lib/python3.7/site-packages/sklearn/naive_bayes.py:557: UserWarning: alpha too small will result in numeric errors, setting alpha = 1.0e-10\n",
      "  % _ALPHA_MIN\n",
      "/Users/aditisharma/opt/anaconda3/envs/t-flowenv/lib/python3.7/site-packages/sklearn/naive_bayes.py:557: UserWarning: alpha too small will result in numeric errors, setting alpha = 1.0e-10\n",
      "  % _ALPHA_MIN\n"
     ]
    },
    {
     "name": "stdout",
     "output_type": "stream",
     "text": [
      "Fitting 3 folds for each of 5 candidates, totalling 15 fits\n",
      "CPU times: user 150 ms, sys: 1.85 ms, total: 152 ms\n",
      "Wall time: 151 ms\n"
     ]
    },
    {
     "data": {
      "text/plain": [
       "GridSearchCV(cv=3,\n",
       "             estimator=Pipeline(steps=[('cvec',\n",
       "                                        CountVectorizer(stop_words=frozenset({'a',\n",
       "                                                                              'about',\n",
       "                                                                              'above',\n",
       "                                                                              'across',\n",
       "                                                                              'after',\n",
       "                                                                              'afterwards',\n",
       "                                                                              'again',\n",
       "                                                                              'against',\n",
       "                                                                              'all',\n",
       "                                                                              'almost',\n",
       "                                                                              'alone',\n",
       "                                                                              'along',\n",
       "                                                                              'already',\n",
       "                                                                              'also',\n",
       "                                                                              'although',\n",
       "                                                                              'always',\n",
       "                                                                              'am',\n",
       "                                                                              'among',\n",
       "                                                                              'amongst',\n",
       "                                                                              'amoungst',\n",
       "                                                                              'amount',\n",
       "                                                                              'an',\n",
       "                                                                              'and',\n",
       "                                                                              'another',\n",
       "                                                                              'any',\n",
       "                                                                              'anyhow',\n",
       "                                                                              'anyone',\n",
       "                                                                              'anything',\n",
       "                                                                              'anyway',\n",
       "                                                                              'anywhere', ...}))),\n",
       "                                       ('mnb', MultinomialNB())]),\n",
       "             param_grid={'cvec__max_features': [10000],\n",
       "                         'cvec__ngram_range': [(1, 1)],\n",
       "                         'mnb__alpha': [0, 0.25, 0.5, 0.75, 1]},\n",
       "             verbose=1)"
      ]
     },
     "execution_count": 101,
     "metadata": {},
     "output_type": "execute_result"
    }
   ],
   "source": [
    "%%time\n",
    "\n",
    "# gridsearchCV tests cross-validation for the parameters\n",
    "\n",
    "params = {\n",
    "#     'cvec__stop_words': [None, 'english'], \n",
    "#     'cvec__max_features': [5000, 10000, 20000], \n",
    "#     'cvec__ngram_range': [(1, 1), (1, 2)]\n",
    "    'cvec__max_features': [10000], \n",
    "    'cvec__ngram_range': [(1, 1)], \n",
    "    'mnb__alpha': [0, 0.25, 0.5, 0.75, 1]\n",
    "    # min_df\n",
    "    # max_df\n",
    "    # binary (use for BernoulliNB)\n",
    "}\n",
    "gs = GridSearchCV(pipe, param_grid=params, cv=3, verbose=1)\n",
    "gs.fit(X_train, y_train)"
   ]
  },
  {
   "cell_type": "code",
   "execution_count": 102,
   "id": "2c4749bf",
   "metadata": {},
   "outputs": [
    {
     "name": "stdout",
     "output_type": "stream",
     "text": [
      "gs.best_score_ 0.8443495356247035\n",
      "gs.best_params_ {'cvec__max_features': 10000, 'cvec__ngram_range': (1, 1), 'mnb__alpha': 0.25}\n",
      "gs.score(X_test, y_test) 0.8590604026845637\n"
     ]
    }
   ],
   "source": [
    "print('gs.best_score_', gs.best_score_)\n",
    "print('gs.best_params_', gs.best_params_)\n",
    "print('gs.score(X_test, y_test)', gs.score(X_test, y_test))"
   ]
  },
  {
   "cell_type": "code",
   "execution_count": 103,
   "id": "e3528ef7",
   "metadata": {},
   "outputs": [
    {
     "data": {
      "text/plain": [
       "array([[-8.03657341, -6.93796112, -8.72972059, ..., -8.03657341,\n",
       "        -8.03657341, -8.72972059],\n",
       "       [-8.16990265, -7.07129036, -7.47675547, ..., -8.16990265,\n",
       "        -8.16990265, -7.47675547]])"
      ]
     },
     "execution_count": 103,
     "metadata": {},
     "output_type": "execute_result"
    }
   ],
   "source": [
    "mnb.feature_log_prob_\n"
   ]
  },
  {
   "cell_type": "code",
   "execution_count": null,
   "id": "9e9f20a3",
   "metadata": {},
   "outputs": [],
   "source": []
  },
  {
   "cell_type": "code",
   "execution_count": 104,
   "id": "4796789d",
   "metadata": {},
   "outputs": [],
   "source": [
    "# set up pipeline\n",
    "\n",
    "# initialize\n",
    "cvec = CountVectorizer(analyzer = \"word\",                        \n",
    "                         tokenizer = None, \n",
    "                         preprocessor = None,\n",
    "                         stop_words = stop_words, \n",
    "                         max_features = 10000)\n",
    "rf = RandomForestClassifier(random_state = 42)\n",
    "\n",
    "pipe = Pipeline([\n",
    "    ('cvec', cvec),\n",
    "    ('rf', rf)\n",
    "])"
   ]
  },
  {
   "cell_type": "code",
   "execution_count": 105,
   "id": "b0179f1c",
   "metadata": {},
   "outputs": [
    {
     "name": "stdout",
     "output_type": "stream",
     "text": [
      "train score: 1.0\n",
      "test score: 0.8355704697986577\n"
     ]
    }
   ],
   "source": [
    "# baseline Random forest\n",
    "\n",
    "pipe.fit(X_train, y_train)\n",
    "print('train score:', pipe.score(X_train, y_train))\n",
    "print('test score:', pipe.score(X_test, y_test))"
   ]
  },
  {
   "cell_type": "code",
   "execution_count": 106,
   "id": "021b6c7a",
   "metadata": {},
   "outputs": [
    {
     "name": "stdout",
     "output_type": "stream",
     "text": [
      "Fitting 3 folds for each of 54 candidates, totalling 162 fits\n",
      "CPU times: user 5.51 s, sys: 17 ms, total: 5.53 s\n",
      "Wall time: 5.53 s\n"
     ]
    },
    {
     "data": {
      "text/plain": [
       "GridSearchCV(cv=3,\n",
       "             estimator=Pipeline(steps=[('cvec',\n",
       "                                        CountVectorizer(max_features=10000,\n",
       "                                                        stop_words=frozenset({'a',\n",
       "                                                                              'about',\n",
       "                                                                              'above',\n",
       "                                                                              'across',\n",
       "                                                                              'after',\n",
       "                                                                              'afterwards',\n",
       "                                                                              'again',\n",
       "                                                                              'against',\n",
       "                                                                              'all',\n",
       "                                                                              'almost',\n",
       "                                                                              'alone',\n",
       "                                                                              'along',\n",
       "                                                                              'already',\n",
       "                                                                              'also',\n",
       "                                                                              'although',\n",
       "                                                                              'always',\n",
       "                                                                              'am',\n",
       "                                                                              'among',\n",
       "                                                                              'amongst',\n",
       "                                                                              'amoungst',\n",
       "                                                                              'amount',\n",
       "                                                                              'an',\n",
       "                                                                              'and',\n",
       "                                                                              'another',\n",
       "                                                                              'any',\n",
       "                                                                              'anyhow',\n",
       "                                                                              'anyone',\n",
       "                                                                              'anything',\n",
       "                                                                              'anyway',\n",
       "                                                                              'anywhere', ...}))),\n",
       "                                       ('rf',\n",
       "                                        RandomForestClassifier(random_state=42))]),\n",
       "             param_grid={'cvec__max_features': [5000, 10000, 20000],\n",
       "                         'cvec__ngram_range': [(1, 1), (1, 2)],\n",
       "                         'rf__max_depth': [None, 10, 20],\n",
       "                         'rf__n_estimators': [10, 20, 30]},\n",
       "             verbose=1)"
      ]
     },
     "execution_count": 106,
     "metadata": {},
     "output_type": "execute_result"
    }
   ],
   "source": [
    "%%time\n",
    "\n",
    "# gridsearchCV tests cross-validation for the parameters\n",
    "# pipe\n",
    "\n",
    "params = {\n",
    "#     'cvec__stop_words': [None, 'english'], \n",
    "    'cvec__max_features': [5000, 10000, 20000], \n",
    "    'cvec__ngram_range': [(1, 1), (1, 2)], \n",
    "    'rf__n_estimators': [10, 20, 30],\n",
    "    'rf__max_depth': [None, 10, 20]\n",
    "}\n",
    "\n",
    "gs = GridSearchCV(pipe, param_grid=params, cv=3, verbose=1)\n",
    "gs.fit(X_train, y_train)"
   ]
  },
  {
   "cell_type": "code",
   "execution_count": 107,
   "id": "9b5bfeb6",
   "metadata": {},
   "outputs": [
    {
     "name": "stdout",
     "output_type": "stream",
     "text": [
      "gs.best_score_ 0.824196476321756\n",
      "gs.best_params_ {'cvec__max_features': 5000, 'cvec__ngram_range': (1, 1), 'rf__max_depth': None, 'rf__n_estimators': 10}\n",
      "gs.score(X_test, y_test) 0.8422818791946308\n"
     ]
    }
   ],
   "source": [
    "print('gs.best_score_', gs.best_score_)\n",
    "print('gs.best_params_', gs.best_params_)\n",
    "print('gs.score(X_test, y_test)', gs.score(X_test, y_test))"
   ]
  },
  {
   "cell_type": "code",
   "execution_count": 108,
   "id": "8d94ba17",
   "metadata": {},
   "outputs": [],
   "source": [
    "from sklearn.svm import SVC"
   ]
  },
  {
   "cell_type": "code",
   "execution_count": 109,
   "id": "2f99591e",
   "metadata": {},
   "outputs": [],
   "source": [
    "svc = SVC()"
   ]
  },
  {
   "cell_type": "code",
   "execution_count": 110,
   "id": "b2fa7a73",
   "metadata": {},
   "outputs": [],
   "source": [
    "cvec = CountVectorizer(stop_words = stop_words)\n",
    "svc = SVC()\n",
    "\n",
    "pipe = Pipeline([\n",
    "    ('cvec', cvec),\n",
    "    ('svc', svc)\n",
    "])"
   ]
  },
  {
   "cell_type": "code",
   "execution_count": 111,
   "id": "f1c91014",
   "metadata": {},
   "outputs": [
    {
     "name": "stdout",
     "output_type": "stream",
     "text": [
      "train score: 0.9686450167973124\n",
      "test score: 0.8422818791946308\n"
     ]
    }
   ],
   "source": [
    "pipe.fit(X_train, y_train)\n",
    "print('train score:', pipe.score(X_train, y_train))\n",
    "print('test score:', pipe.score(X_test, y_test))"
   ]
  },
  {
   "cell_type": "code",
   "execution_count": 112,
   "id": "ecaea59c",
   "metadata": {},
   "outputs": [],
   "source": [
    "tf = TfidfVectorizer(analyzer = \"word\", \n",
    "                     stop_words = \"english\", \n",
    "                     max_features = 10000, \n",
    "                     ngram_range = (1, 1))\n",
    "\n",
    "svc = SVC()\n",
    "\n",
    "pipe = Pipeline([\n",
    "    ('tf', tf),\n",
    "    ('svc', svc)\n",
    "])"
   ]
  },
  {
   "cell_type": "code",
   "execution_count": 113,
   "id": "757110de",
   "metadata": {},
   "outputs": [
    {
     "name": "stdout",
     "output_type": "stream",
     "text": [
      "train score: 0.9944008958566629\n",
      "test score: 0.8456375838926175\n"
     ]
    }
   ],
   "source": [
    "pipe.fit(X_train, y_train)\n",
    "print('train score:', pipe.score(X_train, y_train))\n",
    "print('test score:', pipe.score(X_test, y_test))"
   ]
  },
  {
   "cell_type": "code",
   "execution_count": null,
   "id": "96912ff7",
   "metadata": {},
   "outputs": [],
   "source": []
  }
 ],
 "metadata": {
  "kernelspec": {
   "display_name": "Python 3 (ipykernel)",
   "language": "python",
   "name": "python3"
  },
  "language_info": {
   "codemirror_mode": {
    "name": "ipython",
    "version": 3
   },
   "file_extension": ".py",
   "mimetype": "text/x-python",
   "name": "python",
   "nbconvert_exporter": "python",
   "pygments_lexer": "ipython3",
   "version": "3.7.13"
  }
 },
 "nbformat": 4,
 "nbformat_minor": 5
}
